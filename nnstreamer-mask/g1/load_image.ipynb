{
 "cells": [
  {
   "cell_type": "code",
   "execution_count": 34,
   "id": "81d8dccd-f1a8-48bb-ba95-70e87a713262",
   "metadata": {},
   "outputs": [],
   "source": [
    "import gi\n",
    "import cairo\n",
    "\n",
    "gi.require_version('GLib', '2.0')\n",
    "gi.require_version('GObject', '2.0')\n",
    "gi.require_version('Gst', '1.0')\n",
    "gi.require_version('Gtk', '3.0')\n",
    "gi.require_version('GstVideo', '1.0')\n",
    "from gi.repository import Gst\n",
    "from gi.repository import Gtk\n",
    "from gi.repository import GObject, GstVideo, GLib\n",
    "import cairo\n",
    "import cv2\n",
    "import numpy as np\n",
    "import matplotlib.pyplot as plt"
   ]
  },
  {
   "cell_type": "code",
   "execution_count": 6,
   "id": "47e0ec95-55a7-4809-827b-d71677e1a8f8",
   "metadata": {},
   "outputs": [
    {
     "data": {
      "text/plain": [
       "['/usr/lib/python3/dist-packages/cairo']"
      ]
     },
     "execution_count": 6,
     "metadata": {},
     "output_type": "execute_result"
    }
   ],
   "source": [
    "cairo.__path__"
   ]
  },
  {
   "cell_type": "code",
   "execution_count": 4,
   "id": "c97737a5-3da2-4a4b-b94d-e1c51fabbb53",
   "metadata": {},
   "outputs": [],
   "source": [
    "import sys"
   ]
  },
  {
   "cell_type": "code",
   "execution_count": 5,
   "id": "ddecab3c-6cee-456d-86fa-e5542dc4b918",
   "metadata": {},
   "outputs": [
    {
     "data": {
      "text/plain": [
       "['/home/parallels/paarthurnax/g1',\n",
       " '/usr/lib/python38.zip',\n",
       " '/usr/lib/python3.8',\n",
       " '/usr/lib/python3.8/lib-dynload',\n",
       " '',\n",
       " '/home/parallels/.local/lib/python3.8/site-packages',\n",
       " '/usr/local/lib/python3.8/dist-packages',\n",
       " '/usr/lib/python3/dist-packages',\n",
       " '/usr/lib/python3.8/dist-packages',\n",
       " '/home/parallels/.local/lib/python3.8/site-packages/IPython/extensions',\n",
       " '/home/parallels/.ipython']"
      ]
     },
     "execution_count": 5,
     "metadata": {},
     "output_type": "execute_result"
    }
   ],
   "source": [
    "sys.path"
   ]
  },
  {
   "cell_type": "code",
   "execution_count": null,
   "id": "041caa2e-9aa6-4d0f-9951-1a239dfb6e63",
   "metadata": {},
   "outputs": [],
   "source": [
    "cairo.ImageSurface.create_for_data"
   ]
  },
  {
   "cell_type": "code",
   "execution_count": 17,
   "id": "229e7621-d7b7-4202-9eca-e21b7dbf377d",
   "metadata": {},
   "outputs": [
    {
     "data": {
      "text/plain": [
       "[]"
      ]
     },
     "execution_count": 17,
     "metadata": {},
     "output_type": "execute_result"
    }
   ],
   "source": [
    "Gst.init()"
   ]
  },
  {
   "cell_type": "code",
   "execution_count": 24,
   "id": "81f46196-c893-4f50-935e-0dbefa3edc5c",
   "metadata": {},
   "outputs": [],
   "source": [
    "pipeline = 'filesrc location=./vid.webm ! decodebin name=dec ! videoconvert ! video/x-raw,width=512,height=512 ! cairooverlay name=tensor_res ! autovideosink'\n",
    " \n",
    "# pipeline = ''"
   ]
  },
  {
   "cell_type": "code",
   "execution_count": 25,
   "id": "e5591a59-27cc-498b-b02e-98b1b4db8b3e",
   "metadata": {},
   "outputs": [],
   "source": [
    "loop = GLib.MainLoop()\n",
    "pipeline = Gst.parse_launch(pipeline)"
   ]
  },
  {
   "cell_type": "code",
   "execution_count": 26,
   "id": "5e6501bb-f040-445e-8cec-e3e153984aac",
   "metadata": {},
   "outputs": [
    {
     "data": {
      "text/plain": [
       "25"
      ]
     },
     "execution_count": 29,
     "metadata": {},
     "output_type": "execute_result"
    }
   ],
   "source": [
    "tensor_res = pipeline.get_by_name('tensor_res')\n",
    "tensor_res.connect('draw', draw_overlay_cb)"
   ]
  },
  {
   "cell_type": "code",
   "execution_count": 14,
   "id": "02059ba8-01f2-4e03-ba2c-67171e29d87c",
   "metadata": {},
   "outputs": [
    {
     "name": "stdout",
     "output_type": "stream",
     "text": [
      "<__gi__.GstDecodeBin object at 0xffff4f0b7580 (GstDecodeBin at 0x30d4c5b0)>\n"
     ]
    }
   ],
   "source": [
    "print(pipeline.get_by_name('dec'))"
   ]
  },
  {
   "cell_type": "code",
   "execution_count": 26,
   "id": "17fac341-7f20-47c2-8e47-b439ea0a82b6",
   "metadata": {},
   "outputs": [],
   "source": [
    "pen_im = cv2.imread(\"./penguin.png\", 0)"
   ]
  },
  {
   "cell_type": "code",
   "execution_count": 20,
   "id": "05c0905e-4916-45e0-af85-cc3574b84a56",
   "metadata": {},
   "outputs": [],
   "source": [
    "aaa = []"
   ]
  },
  {
   "cell_type": "code",
   "execution_count": 21,
   "id": "98cd91b2-fc9b-49e6-8487-b5f215a84bab",
   "metadata": {},
   "outputs": [
    {
     "ename": "TypeError",
     "evalue": "expected a writable bytes-like object",
     "output_type": "error",
     "traceback": [
      "\u001b[0;31m---------------------------------------------------------------------------\u001b[0m",
      "\u001b[0;31mTypeError\u001b[0m                                 Traceback (most recent call last)",
      "\u001b[0;32m/tmp/ipykernel_6116/790452104.py\u001b[0m in \u001b[0;36m<module>\u001b[0;34m\u001b[0m\n\u001b[1;32m      1\u001b[0m \u001b[0mformat\u001b[0m \u001b[0;34m=\u001b[0m \u001b[0mcairo\u001b[0m\u001b[0;34m.\u001b[0m\u001b[0mFormat\u001b[0m\u001b[0;34m.\u001b[0m\u001b[0mRGB24\u001b[0m\u001b[0;34m\u001b[0m\u001b[0;34m\u001b[0m\u001b[0m\n\u001b[1;32m      2\u001b[0m \u001b[0mstride\u001b[0m \u001b[0;34m=\u001b[0m \u001b[0mformat\u001b[0m\u001b[0;34m.\u001b[0m\u001b[0mstride_for_width\u001b[0m\u001b[0;34m(\u001b[0m\u001b[0mlen\u001b[0m\u001b[0;34m(\u001b[0m\u001b[0mpen_im\u001b[0m\u001b[0;34m[\u001b[0m\u001b[0;36m0\u001b[0m\u001b[0;34m]\u001b[0m\u001b[0;34m)\u001b[0m\u001b[0;34m)\u001b[0m\u001b[0;34m\u001b[0m\u001b[0;34m\u001b[0m\u001b[0m\n\u001b[0;32m----> 3\u001b[0;31m surface = cairo.ImageSurface.create_for_data(\n\u001b[0m\u001b[1;32m      4\u001b[0m     aaa, format, len(pen_im[0]), len(pen_im))\n",
      "\u001b[0;31mTypeError\u001b[0m: expected a writable bytes-like object"
     ]
    }
   ],
   "source": [
    "format = cairo.Format.RGB24\n",
    "stride = format.stride_for_width(len(pen_im[0]))\n",
    "surface = cairo.ImageSurface.create_for_data(\n",
    "    aaa, format, len(pen_im[0]), len(pen_im))"
   ]
  },
  {
   "cell_type": "code",
   "execution_count": 17,
   "id": "78580083-f4d1-4aea-b2bf-f09959065ae9",
   "metadata": {},
   "outputs": [
    {
     "data": {
      "text/plain": [
       "(502, 600, 3)"
      ]
     },
     "execution_count": 17,
     "metadata": {},
     "output_type": "execute_result"
    }
   ],
   "source": [
    "pen_im.shape"
   ]
  },
  {
   "cell_type": "code",
   "execution_count": 16,
   "id": "cd924c93-66ee-49f8-878f-90d977cc7d17",
   "metadata": {},
   "outputs": [
    {
     "data": {
      "text/plain": [
       "2400"
      ]
     },
     "execution_count": 16,
     "metadata": {},
     "output_type": "execute_result"
    }
   ],
   "source": [
    "stride"
   ]
  },
  {
   "cell_type": "code",
   "execution_count": 11,
   "id": "e5e4d751-f8f6-4d20-b94a-a4ccbfbb107e",
   "metadata": {},
   "outputs": [
    {
     "ename": "TypeError",
     "evalue": "Context.__new__() argument 1 must be cairo.Surface, not numpy.ndarray",
     "output_type": "error",
     "traceback": [
      "\u001b[0;31m---------------------------------------------------------------------------\u001b[0m",
      "\u001b[0;31mTypeError\u001b[0m                                 Traceback (most recent call last)",
      "\u001b[0;32m/tmp/ipykernel_6116/1640759410.py\u001b[0m in \u001b[0;36m<module>\u001b[0;34m\u001b[0m\n\u001b[0;32m----> 1\u001b[0;31m \u001b[0mctxt\u001b[0m \u001b[0;34m=\u001b[0m \u001b[0mcairo\u001b[0m\u001b[0;34m.\u001b[0m\u001b[0mContext\u001b[0m\u001b[0;34m(\u001b[0m\u001b[0mpen_im\u001b[0m\u001b[0;34m)\u001b[0m\u001b[0;34m\u001b[0m\u001b[0;34m\u001b[0m\u001b[0m\n\u001b[0m",
      "\u001b[0;31mTypeError\u001b[0m: Context.__new__() argument 1 must be cairo.Surface, not numpy.ndarray"
     ]
    }
   ],
   "source": [
    "ctxt = cairo.Context()"
   ]
  },
  {
   "cell_type": "code",
   "execution_count": 54,
   "id": "2030470b-73a5-4b1a-87fe-a82560828deb",
   "metadata": {},
   "outputs": [],
   "source": [
    "import numpy\n",
    "import cairo\n",
    "pen_im = cv2.imread(\"./penguin.png\")\n",
    "# width, height = 255, 255\n",
    "width, height = pen_im.shape[:2]\n",
    "# data = numpy.ndarray(shape=(height, width), dtype=numpy.uint32)\n",
    "data = pen_im.astype(np.uint8)\n",
    "\n",
    "surface = cairo.ImageSurface.create_for_data(\n",
    "    data, cairo.FORMAT_A8, height, width)"
   ]
  },
  {
   "cell_type": "code",
   "execution_count": null,
   "id": "9cb78eee-0f93-4ba6-a6d5-9a891e903e37",
   "metadata": {},
   "outputs": [],
   "source": []
  },
  {
   "cell_type": "code",
   "execution_count": 55,
   "id": "fb965186-3674-4026-af87-f70d1d9c5e03",
   "metadata": {},
   "outputs": [
    {
     "data": {
      "text/plain": [
       "(502, 600, 3)"
      ]
     },
     "execution_count": 55,
     "metadata": {},
     "output_type": "execute_result"
    }
   ],
   "source": [
    "pen_im.shape"
   ]
  },
  {
   "cell_type": "code",
   "execution_count": 56,
   "id": "029e8531-153e-4704-b61c-04de9de6c64e",
   "metadata": {},
   "outputs": [
    {
     "data": {
      "text/plain": [
       "<cairo.ImageSurface at 0xffff78858110>"
      ]
     },
     "execution_count": 56,
     "metadata": {},
     "output_type": "execute_result"
    }
   ],
   "source": [
    "surface"
   ]
  },
  {
   "cell_type": "code",
   "execution_count": 57,
   "id": "752f0d6e-731d-43cb-ad8f-da92a211f706",
   "metadata": {},
   "outputs": [
    {
     "name": "stdout",
     "output_type": "stream",
     "text": [
      "<memory at 0xffff753d4b80>\n"
     ]
    }
   ],
   "source": [
    "buf = surface.get_data()\n",
    "print(buf)"
   ]
  },
  {
   "cell_type": "code",
   "execution_count": 58,
   "id": "14d37665-d0d5-4479-9760-c8cdb45a8811",
   "metadata": {},
   "outputs": [
    {
     "data": {
      "text/plain": [
       "<matplotlib.image.AxesImage at 0xffff74244670>"
      ]
     },
     "execution_count": 58,
     "metadata": {},
     "output_type": "execute_result"
    },
    {
     "data": {
      "image/png": "[encoded data removed]",
      "text/plain": [
       "<Figure size 432x288 with 1 Axes>"
      ]
     },
     "metadata": {
      "needs_background": "light"
     },
     "output_type": "display_data"
    }
   ],
   "source": [
    "plt.imshow(data)"
   ]
  },
  {
   "cell_type": "code",
   "execution_count": 46,
   "id": "bbdfe1e8-7f37-4648-a0f5-57f58053bcb4",
   "metadata": {},
   "outputs": [
    {
     "ename": "TypeError",
     "evalue": "buffer is too small for requested array",
     "output_type": "error",
     "traceback": [
      "\u001b[0;31m---------------------------------------------------------------------------\u001b[0m",
      "\u001b[0;31mTypeError\u001b[0m                                 Traceback (most recent call last)",
      "\u001b[0;32m/tmp/ipykernel_6116/3470228839.py\u001b[0m in \u001b[0;36m<module>\u001b[0;34m\u001b[0m\n\u001b[0;32m----> 1\u001b[0;31m rdata = numpy.ndarray(shape=(width,height),\n\u001b[0m\u001b[1;32m      2\u001b[0m                      \u001b[0mdtype\u001b[0m\u001b[0;34m=\u001b[0m\u001b[0mnumpy\u001b[0m\u001b[0;34m.\u001b[0m\u001b[0muint32\u001b[0m\u001b[0;34m,\u001b[0m\u001b[0;34m\u001b[0m\u001b[0;34m\u001b[0m\u001b[0m\n\u001b[1;32m      3\u001b[0m                      buffer=buf)\n\u001b[1;32m      4\u001b[0m \u001b[0mplt\u001b[0m\u001b[0;34m.\u001b[0m\u001b[0mimshow\u001b[0m\u001b[0;34m(\u001b[0m\u001b[0mrdata\u001b[0m\u001b[0;34m)\u001b[0m\u001b[0;34m\u001b[0m\u001b[0;34m\u001b[0m\u001b[0m\n",
      "\u001b[0;31mTypeError\u001b[0m: buffer is too small for requested array"
     ]
    }
   ],
   "source": [
    "rdata = numpy.ndarray(shape=(width,height),\n",
    "                     dtype=numpy.uint32,\n",
    "                     buffer=buf)\n",
    "plt.imshow(rdata)"
   ]
  },
  {
   "cell_type": "code",
   "execution_count": null,
   "id": "b495ca77-24ea-40f9-b20d-911f55e82e0b",
   "metadata": {},
   "outputs": [],
   "source": []
  }
 ],
 "metadata": {
  "kernelspec": {
   "display_name": "Python 3 (ipykernel)",
   "language": "python",
   "name": "python3"
  },
  "language_info": {
   "codemirror_mode": {
    "name": "ipython",
    "version": 3
   },
   "file_extension": ".py",
   "mimetype": "text/x-python",
   "name": "python",
   "nbconvert_exporter": "python",
   "pygments_lexer": "ipython3",
   "version": "3.8.10"
  }
 },
 "nbformat": 4,
 "nbformat_minor": 5
}

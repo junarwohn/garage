{
 "cells": [
  {
   "cell_type": "code",
   "execution_count": 3,
   "metadata": {},
   "outputs": [
    {
     "name": "stdout",
     "output_type": "stream",
     "text": [
      "[0 1 0 0 0]\n[1 1 1 1 1]\n0.2\n"
     ]
    }
   ],
   "source": [
    "# Dumb predictor\n",
    "import numpy as np\n",
    "np.random.seed(42)\n",
    "y_true = np.random.randint(0, 2, size=5)\n",
    "print(y_true)\n",
    "y_pred = np.ones(5, dtype=np.int32)\n",
    "print(y_pred)\n",
    "np.sum(y_true == y_pred) / len(y_true)\n",
    "from sklearn import metrics\n",
    "accuarcy = metrics.accuracy_score(y_true, y_pred)\n",
    "print(accuarcy)"
   ]
  },
  {
   "cell_type": "code",
   "execution_count": null,
   "metadata": {},
   "outputs": [],
   "source": [
    "truly_a_positive = (y_true == 1)\n",
    "predicted_a_positive = (y_pred == 1)\n",
    "true_positive = np.sum(predicted_a_positive * truly_a_positive)\n",
    "print(\"true_positive : {}\".format(true_positive))\n",
    "false_positive = np.sum((y_pred == 1) * (y_true == 0))\n",
    "print(\"false_positive : {}\".format(false_positive))\n",
    "false_negative = np.sum((y_pred == 0) * (y_true == 1))\n",
    "print(\"false_negative : {}\".format(false_negative))\n",
    "true_negative = np.sum((y_pred == 0) * (y_true == 0))\n",
    "print(\"true_negative : {}\".format(true_negative))"
   ]
  },
  {
   "cell_type": "code",
   "execution_count": 20,
   "metadata": {},
   "outputs": [
    {
     "name": "stdout",
     "output_type": "stream",
     "text": [
      "accuarcy : 0.2\n"
     ]
    }
   ],
   "source": [
    "accuarcy = (true_positive + true_negative) / len(y_true)\n",
    "print(\"accuarcy : {}\".format(accuarcy))"
   ]
  },
  {
   "cell_type": "code",
   "execution_count": null,
   "metadata": {},
   "outputs": [],
   "source": []
  }
 ],
 "metadata": {
  "kernelspec": {
   "display_name": "Python 3",
   "language": "python",
   "name": "python3"
  },
  "language_info": {
   "codemirror_mode": {
    "name": "ipython",
    "version": 3
   },
   "file_extension": ".py",
   "mimetype": "text/x-python",
   "name": "python",
   "nbconvert_exporter": "python",
   "pygments_lexer": "ipython3",
   "version": "3.6.5"
  }
 },
 "nbformat": 4,
 "nbformat_minor": 2
}

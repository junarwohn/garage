{
 "cells": [
  {
   "cell_type": "code",
   "execution_count": 1,
   "metadata": {},
   "outputs": [],
   "source": [
    "import urllib.request\n",
    "import urllib.parse\n",
    "#import pdfkit\n",
    "from bs4 import BeautifulSoup\n",
    "import re\n",
    "from time import sleep"
   ]
  },
  {
   "cell_type": "code",
   "execution_count": 2,
   "metadata": {},
   "outputs": [
    {
     "name": "stdout",
     "output_type": "stream",
     "text": [
      "1189\n"
     ]
    }
   ],
   "source": [
    "if (True):\n",
    "    with urllib.request.urlopen('http://kcm.co.kr/bible/korea.html') as response:\n",
    "        html = response.read()\n",
    "        euc_kr_html = html.decode(\"euc-kr\")\n",
    "    next_chapter_ = []\n",
    "    soup = BeautifulSoup(euc_kr_html, 'html.parser')\n",
    "    chapter_name_list = soup.find_all(text=re.compile(\".*[0-9][0-9]?장\"))\n",
    "    chapter_links = []\n",
    "    for c_name in chapter_name_list:\n",
    "         chapter_links.append(c_name.parent['href'])\n",
    "print(len(chapter_links)) "
   ]
  },
  {
   "cell_type": "code",
   "execution_count": 3,
   "metadata": {},
   "outputs": [],
   "source": [
    "exclude_list = ['Previous chapter,\\n', 'Next chapter,\\n', 'Previous Book,\\n', 'Next Book,\\n', 'KJV\\n','Previous chapter,', 'Next chapter,', 'Previous Book,', 'Next Book,', 'KJV']"
   ]
  },
  {
   "cell_type": "code",
   "execution_count": 6,
   "metadata": {},
   "outputs": [
    {
     "name": "stdout",
     "output_type": "stream",
     "text": [
      "창세기\n",
      "출애굽기\n",
      "레위기\n",
      "민수기\n",
      "신명기\n",
      "여호수아\n",
      "사사기\n",
      "룻기\n",
      "사무엘상\n",
      "사무엘하\n",
      "열왕기상\n",
      "열왕기하\n",
      "역대상\n",
      "역대하\n",
      "에스라\n",
      "느헤미야\n",
      "에스더\n",
      "욥기\n",
      "시편\n",
      "잠언\n",
      "전도서\n",
      "아가서\n",
      "이사야\n",
      "예레미야\n",
      "예레미야\n",
      "에스겔\n",
      "다니엘\n",
      "호세아\n",
      "요엘\n",
      "아모스\n",
      "오바댜\n",
      "요나\n",
      "미가\n",
      "나훔\n",
      "하박국\n",
      "스바냐\n",
      "학개\n",
      "스가랴\n",
      "말라기\n",
      "마태복음\n",
      "마가복음\n",
      "누가복음\n",
      "요한복음\n",
      "사도행전\n",
      "로마서\n",
      "고린도전서\n",
      "고린도후서\n",
      "갈라디아서\n",
      "에베소서\n",
      "빌립보서\n",
      "골로새서\n",
      "데살로니가전서\n",
      "데살로니가후서\n",
      "디모데전서\n",
      "디모데후서\n",
      "디도서\n",
      "빌레몬서\n",
      "히브리서\n",
      "야고보서\n",
      "베드로전서\n",
      "베드로후서\n",
      "요한일서\n",
      "요한계시록\n"
     ]
    }
   ],
   "source": [
    "#-*- coding: utf-8 -*-\n",
    "f_bible = open(\"bible2.txt\", 'a')\n",
    "base_url = 'http://kcm.co.kr'\n",
    "web_url = '/bible/kor/Mat3.html'\n",
    "seperator_code = '~!PageBreak!~'\n",
    "#while len(next_chapter) > 0:\n",
    "for web_url in chapter_links:\n",
    "#if True:\n",
    "#    web_url = chapter_links[0]\n",
    "    with urllib.request.urlopen(base_url + web_url) as response:\n",
    "        html = response.read()\n",
    "    soup = BeautifulSoup(html, 'html.parser')\n",
    "    title_ = soup.h2.get_text()\n",
    "    if ' 1장' in title_ or ' 1편' in title_:\n",
    "        print((title_.split())[0])\n",
    "        f_bible.write(\"title_start_\" + (title_.split())[0] + '_title_end\\n')\n",
    "        f_bible.write(seperator_code)\n",
    "    contents = soup.find_all('table')\n",
    "    for c in contents:\n",
    "        content = c.get_text()\n",
    "        if ('Copyright' in content):\n",
    "            cut_loc = content.index('Copyright')\n",
    "            f_bible.write(content[:cut_loc])\n",
    "        else:\n",
    "            f_bible.write(content)\n",
    "    for f in soup.find_all('a', attrs={'name' : 'bottom'}):\n",
    "        contents = str(f.get_text())\n",
    "        for el in exclude_list:\n",
    "            contents = contents.replace(el, '')\n",
    "        f_bible.write(contents)\n",
    "    f_bible.write(seperator_code)\n",
    "f_bible.close()"
   ]
  },
  {
   "cell_type": "code",
   "execution_count": null,
   "metadata": {},
   "outputs": [],
   "source": []
  }
 ],
 "metadata": {
  "kernelspec": {
   "display_name": "Python 3",
   "language": "python",
   "name": "python3"
  },
  "language_info": {
   "codemirror_mode": {
    "name": "ipython",
    "version": 3
   },
   "file_extension": ".py",
   "mimetype": "text/x-python",
   "name": "python",
   "nbconvert_exporter": "python",
   "pygments_lexer": "ipython3",
   "version": "3.6.5"
  }
 },
 "nbformat": 4,
 "nbformat_minor": 2
}

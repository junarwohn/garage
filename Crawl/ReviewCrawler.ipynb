{
 "cells": [
  {
   "cell_type": "markdown",
   "metadata": {},
   "source": [
    "Before start..\n",
    "\n",
    "\n",
    "You have to download the Chrome driver that match your current Chrome browser version.(Cause nobody use Firefox. not me.)\n",
    "\n",
    "\n",
    "You can find your Chrome version in here(chrome://settings/help)\n",
    "\n",
    "\n",
    "Then install right version of driver here(https://sites.google.com/a/chromium.org/chromedriver/downloads)"
   ]
  },
  {
   "cell_type": "code",
   "execution_count": null,
   "metadata": {},
   "outputs": [],
   "source": [
    "# if ModuleNotFoundError: No module named 'SOMETHING', then open cmd(Windows)or terminal(Mac or linuix base)\n",
    "# then type\n",
    "# pip install SOMETHING\n",
    "from selenium import webdriver as wd\n",
    "from selenium.webdriver.chrome.options import Options\n",
    "import time\n",
    "import urllib.request\n",
    "import requests\n",
    "import os"
   ]
  },
  {
   "cell_type": "code",
   "execution_count": null,
   "metadata": {},
   "outputs": [],
   "source": [
    "options = Options()\n",
    "prefs = {\"profile.managed_default_content_settings.images\": 2}\n",
    "options.add_experimental_option(\"prefs\", prefs)\n",
    "base_url = \"https://www.sitejabber.com/reviews/1800flowers.com?page={}#reviews\"\n",
    "browser = wd.Chrome(\"chromedriver.exe\", options=options)"
   ]
  },
  {
   "cell_type": "code",
   "execution_count": null,
   "metadata": {},
   "outputs": [],
   "source": [
    "# crawl page 1 to 27\n",
    "for page_num in range(1, 28):\n",
    "    browser.set_page_load_timeout(1000)\n",
    "    browser.get(base_url.format(str(page_num)))\n",
    "    review_containers = browser.find_element_by_id(\"reviews_container\").find_elements_by_class_name(\"review_container \")\n",
    "    for review in review_containers:\n",
    "        stars = 5 - int(len(review.find_elements_by_class_name(\"star-muted\")))\n",
    "        content = review.find_element_by_tag_name(\"p\").text\n",
    "        try:\n",
    "            read_more_button = review.find_element_by_class_name(\"truncate_more_link\")\n",
    "            read_more_button.click()\n",
    "            # prevent crawl before loaded\n",
    "            time.sleep(5)\n",
    "            content = review.find_element_by_tag_name(\"p\").text\n",
    "        except:\n",
    "            pass\n",
    "        date = browser.find_element_by_class_name(\"time\").text\n",
    "        print(\"date : {}, stars : {}, content : {}\".format(date, stars, content))\n",
    "        # prevent ip block\n",
    "    time.sleep(10)\n",
    "browser.close()"
   ]
  },
  {
   "cell_type": "code",
   "execution_count": null,
   "metadata": {},
   "outputs": [],
   "source": []
  }
 ],
 "metadata": {
  "kernelspec": {
   "display_name": "Python 3",
   "language": "python",
   "name": "python3"
  },
  "language_info": {
   "codemirror_mode": {
    "name": "ipython",
    "version": 3
   },
   "file_extension": ".py",
   "mimetype": "text/x-python",
   "name": "python",
   "nbconvert_exporter": "python",
   "pygments_lexer": "ipython3",
   "version": "3.6.7"
  }
 },
 "nbformat": 4,
 "nbformat_minor": 2
}

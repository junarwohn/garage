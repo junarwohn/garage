{
 "cells": [
  {
   "cell_type": "code",
   "execution_count": 1,
   "metadata": {
    "collapsed": true
   },
   "outputs": [],
   "source": [
    "import numpy as np\n",
    "import matplotlib.pyplot as plt\n",
    "import numpy.random as rnd\n",
    "%matplotlib inline"
   ]
  },
  {
   "cell_type": "code",
   "execution_count": 2,
   "metadata": {
    "collapsed": false
   },
   "outputs": [
    {
     "data": {
      "text/plain": [
       "array([1, 0, 0, 0, 0, 0, 0, 1, 0, 0])"
      ]
     },
     "execution_count": 2,
     "metadata": {},
     "output_type": "execute_result"
    }
   ],
   "source": [
    "rnd.randint(0, 1 + 1, 10)"
   ]
  },
  {
   "cell_type": "code",
   "execution_count": 5,
   "metadata": {
    "collapsed": false
   },
   "outputs": [
    {
     "data": {
      "text/plain": [
       "array([1, 1, 1, 1, 0, 0, 0, 1, 0, 1])"
      ]
     },
     "execution_count": 5,
     "metadata": {},
     "output_type": "execute_result"
    }
   ],
   "source": [
    "rnd.randint(0, 1 + 1, 10)"
   ]
  },
  {
   "cell_type": "code",
   "execution_count": 6,
   "metadata": {
    "collapsed": false
   },
   "outputs": [
    {
     "data": {
      "text/plain": [
       "array([1, 1, 0, 1, 0, 1, 1, 0, 1, 1])"
      ]
     },
     "execution_count": 6,
     "metadata": {},
     "output_type": "execute_result"
    }
   ],
   "source": [
    "rnd.seed(10)\n",
    "rnd.randint(0, 1 + 1, 10)"
   ]
  },
  {
   "cell_type": "code",
   "execution_count": 7,
   "metadata": {
    "collapsed": false
   },
   "outputs": [
    {
     "data": {
      "text/plain": [
       "array([1, 1, 0, 1, 0, 1, 1, 0, 1, 1])"
      ]
     },
     "execution_count": 7,
     "metadata": {},
     "output_type": "execute_result"
    }
   ],
   "source": [
    "rnd.seed(10)\n",
    "rnd.randint(0, 1 + 1, 10)"
   ]
  },
  {
   "cell_type": "code",
   "execution_count": 8,
   "metadata": {
    "collapsed": false
   },
   "outputs": [
    {
     "name": "stdout",
     "output_type": "stream",
     "text": [
      "number of heads:  59\n",
      "number of tails:  41\n"
     ]
    }
   ],
   "source": [
    "flip = rnd.randint(0, 1 + 1, 100)\n",
    "headcount = 0\n",
    "tailcount = 0\n",
    "for i in range(100):\n",
    "    if flip[i] == 0:\n",
    "        headcount += 1\n",
    "    else:\n",
    "        tailcount += 1\n",
    "print('number of heads: ',headcount)\n",
    "print('number of tails: ',tailcount)"
   ]
  },
  {
   "cell_type": "code",
   "execution_count": 9,
   "metadata": {
    "collapsed": false
   },
   "outputs": [
    {
     "name": "stdout",
     "output_type": "stream",
     "text": [
      "headcount 59\n",
      "tailcount 41\n"
     ]
    }
   ],
   "source": [
    "headcount = np.count_nonzero(flip == 0)\n",
    "tailcount = np.count_nonzero(flip == 1)\n",
    "print('headcount', headcount)\n",
    "print('tailcount', tailcount)"
   ]
  },
  {
   "cell_type": "code",
   "execution_count": 10,
   "metadata": {
    "collapsed": false
   },
   "outputs": [
    {
     "name": "stdout",
     "output_type": "stream",
     "text": [
      "outcome  0  is  59\n",
      "outcome  1  is  41\n"
     ]
    }
   ],
   "source": [
    "outcomes = np.zeros(2, dtype='int') # Two outcomes. heads are stored in outcome[0], tails in outcome[1]\n",
    "for i in range (2):\n",
    "    outcomes[i] = np.count_nonzero(flip == i)\n",
    "    print('outcome ', i, ' is ', outcomes[i])"
   ]
  },
  {
   "cell_type": "code",
   "execution_count": 11,
   "metadata": {
    "collapsed": false
   },
   "outputs": [
    {
     "name": "stdout",
     "output_type": "stream",
     "text": [
      "number of 0, 1, 2 tails: [ 27.  47.  26.]\n"
     ]
    }
   ],
   "source": [
    "rnd.seed(55)\n",
    "flips = rnd.randint(low=0, high=1 + 1, size=(2, 100))\n",
    "tails = np.sum(flips, axis=0)\n",
    "number_of_tails = np.zeros(3)\n",
    "for i in range(3):\n",
    "    number_of_tails[i] = np.count_nonzero(tails == i)\n",
    "print('number of 0, 1, 2 tails:', number_of_tails)"
   ]
  },
  {
   "cell_type": "code",
   "execution_count": 12,
   "metadata": {
    "collapsed": false
   },
   "outputs": [
    {
     "data": {
      "text/plain": [
       "True"
      ]
     },
     "execution_count": 12,
     "metadata": {},
     "output_type": "execute_result"
    }
   ],
   "source": [
    "rnd.seed(55)\n",
    "flips1 = rnd.randint(low=0, high=1 + 1, size=5)\n",
    "rnd.seed(55)\n",
    "flips2 = rnd.choice(range(2), size=5, replace=True)\n",
    "np.alltrue(flips1 == flips2)  # Check whether all values in the two arrays are equal"
   ]
  },
  {
   "cell_type": "code",
   "execution_count": 13,
   "metadata": {
    "collapsed": false
   },
   "outputs": [
    {
     "name": "stdout",
     "output_type": "stream",
     "text": [
      "cum_prob  [ 0.27  0.74  1.  ]\n"
     ]
    }
   ],
   "source": [
    "prob = number_of_tails / 100  # number_of_tails was computed two code cells back\n",
    "cum_prob = np.cumsum(prob) # So cum_prob[0] = prob[0], cum_prob[1] = prob[0] + prob[1], etc.\n",
    "print('cum_prob ',cum_prob)"
   ]
  },
  {
   "cell_type": "code",
   "execution_count": 15,
   "metadata": {
    "collapsed": false
   },
   "outputs": [
    {
     "name": "stdout",
     "output_type": "stream",
     "text": [
      "number of times 1 is 17\n",
      "number of times 2 is 17\n",
      "number of times 3 is 15\n",
      "number of times 4 is 24\n",
      "number of times 5 is 19\n",
      "number of times 6 is 8\n",
      "total number of throws  100\n"
     ]
    }
   ],
   "source": [
    "rnd.seed(33)\n",
    "dicethrow = rnd.randint(1, 6 + 1, 100)\n",
    "side = np.zeros(6, dtype='int')\n",
    "for i in range(6):\n",
    "    side[i] = np.count_nonzero(dicethrow == i + 1)\n",
    "    print('number of times', i + 1, 'is', side[i])\n",
    "print('total number of throws ', sum(side))"
   ]
  },
  {
   "cell_type": "code",
   "execution_count": 14,
   "metadata": {
    "collapsed": false
   },
   "outputs": [
    {
     "data": {
      "image/png": "[encoded data removed]",
      "text/plain": [
       "<matplotlib.figure.Figure at 0x1a0c8f93208>"
      ]
     },
     "metadata": {},
     "output_type": "display_data"
    }
   ],
   "source": [
    "y = np.hstack((0, cum_prob, 1))\n",
    "plt.plot(range(-1, 4), y, drawstyle='steps-post')\n",
    "plt.xlabel('number of tails in two throws')\n",
    "plt.ylabel('cumulative probability')\n",
    "plt.xticks([0, 1, 2])\n",
    "plt.ylim(-0.1, 1.1);"
   ]
  },
  {
   "cell_type": "code",
   "execution_count": 16,
   "metadata": {
    "collapsed": false
   },
   "outputs": [
    {
     "data": {
      "image/png": "[encoded data removed]",
      "text/plain": [
       "<matplotlib.figure.Figure at 0x1a0c8f93b70>"
      ]
     },
     "metadata": {},
     "output_type": "display_data"
    }
   ],
   "source": [
    "N = 1000\n",
    "tails = np.sum(rnd.randint(0, 1 + 1, (5, 1000)), axis=0)\n",
    "counttails = np.zeros(6)\n",
    "for i in range(6):\n",
    "    counttails[i] = np.count_nonzero(tails == i)\n",
    "plt.plot(range(0, 6), counttails / N, 'bo')\n",
    "plt.xlabel('number of tails in five flips')\n",
    "plt.ylabel('probability');"
   ]
  },
  {
   "cell_type": "code",
   "execution_count": 17,
   "metadata": {
    "collapsed": false
   },
   "outputs": [
    {
     "name": "stdout",
     "output_type": "stream",
     "text": [
      "cumprob: [ 0.033  0.192  0.491  0.812  0.968  1.   ]\n"
     ]
    },
    {
     "data": {
      "image/png": "[encoded data removed]",
      "text/plain": [
       "<matplotlib.figure.Figure at 0x1a0c92f2cf8>"
      ]
     },
     "metadata": {},
     "output_type": "display_data"
    }
   ],
   "source": [
    "cumprob = np.cumsum(counttails / N)\n",
    "print('cumprob:', cumprob)\n",
    "y = np.hstack((0, cumprob, 1))\n",
    "plt.plot(np.arange(-1, 7), y, drawstyle='steps-post')\n",
    "plt.xlim(-0.1, 5.1)\n",
    "plt.ylim(-0.1, 1.1)\n",
    "plt.xlabel('number of tails in five flips')\n",
    "plt.ylabel('cumulative probability');"
   ]
  },
  {
   "cell_type": "code",
   "execution_count": 18,
   "metadata": {
    "collapsed": false
   },
   "outputs": [
    {
     "name": "stdout",
     "output_type": "stream",
     "text": [
      "Theoretical probabilities:\n",
      "0  tails  0.03125\n",
      "1  tails  0.15625\n",
      "2  tails  0.3125\n",
      "3  tails  0.3125\n",
      "4  tails  0.15625\n",
      "5  tails  0.03125\n",
      "Probability with 1000 trials:  [ 0.031  0.16   0.307  0.334  0.139  0.029]\n",
      "Probability with 10000 trials:  [ 0.0315  0.1579  0.3083  0.3098  0.1634  0.0291]\n",
      "Probability with 100000 trials:  [ 0.03093  0.15591  0.31454  0.31266  0.15484  0.03112]\n"
     ]
    }
   ],
   "source": [
    "from scipy.misc import comb\n",
    "print('Theoretical probabilities:')\n",
    "for k in range(6):\n",
    "    print(k, ' tails ', comb(5, k) * 0.5 ** k * 0.5 ** (5 - k))\n",
    "for N in (1000, 10000, 100000):\n",
    "    tails = np.sum(rnd.randint(0, 1 + 1, (5, N)), axis=0)\n",
    "    counttails = np.zeros(6)\n",
    "    for i in range(6):\n",
    "        counttails[i] = np.count_nonzero(tails==i)\n",
    "    print('Probability with', N, 'trials: ', counttails / float(N))"
   ]
  },
  {
   "cell_type": "code",
   "execution_count": 19,
   "metadata": {
    "collapsed": false
   },
   "outputs": [
    {
     "name": "stdout",
     "output_type": "stream",
     "text": [
      "[ 0.036  0.129  0.283  0.481  0.731  1.   ]\n"
     ]
    },
    {
     "data": {
      "image/png": "[encoded data removed]",
      "text/plain": [
       "<matplotlib.figure.Figure at 0x1a0c9de6b38>"
      ]
     },
     "metadata": {},
     "output_type": "display_data"
    }
   ],
   "source": [
    "dice = rnd.randint(1, 6 + 1, (2, 1000))\n",
    "highest_dice = np.amax(dice, 0)\n",
    "outcome = np.zeros(6)\n",
    "for i in range(6):\n",
    "    outcome[i] = np.sum(highest_dice == i + 1) / 1000\n",
    "y = np.hstack((0, np.cumsum(outcome), 1))\n",
    "plt.plot(range(0, 8), y, drawstyle='steps-post')\n",
    "plt.xlim(0.8, 6.2)\n",
    "plt.ylim(-0.1, 1.1)\n",
    "print(np.cumsum(outcome))\n",
    "plt.xlabel('highest dice')\n",
    "plt.ylabel('probability');"
   ]
  },
  {
   "cell_type": "code",
   "execution_count": 20,
   "metadata": {
    "collapsed": false
   },
   "outputs": [
    {
     "name": "stdout",
     "output_type": "stream",
     "text": [
      "Outcome for 100 throws:  [ 0.01  0.03  0.19  0.13  0.27  0.37]\n",
      "Outcome for 1000 throws:  [ 0.035  0.076  0.142  0.189  0.262  0.296]\n",
      "Outcome for 10000 throws:  [ 0.0258  0.0862  0.1323  0.1924  0.248   0.3153]\n",
      "Exact probabilities:  [ 0.02777778  0.08333333  0.13888889  0.19444444  0.25        0.30555556]\n"
     ]
    }
   ],
   "source": [
    "for N in [100, 1000, 10000]:\n",
    "    dice = rnd.randint(1, 6 + 1, (2, N))\n",
    "    highest_dice = np.max(dice, axis=0)\n",
    "    outcome = np.zeros(6)\n",
    "    for i in range(6):\n",
    "        outcome[i] = np.sum(highest_dice == i + 1) / N\n",
    "    print('Outcome for', N, 'throws: ', outcome)\n",
    "# Exact values\n",
    "exact = np.zeros(6)\n",
    "for i, j in enumerate(range(1, 12, 2)):\n",
    "    exact[i] = j / 36\n",
    "print('Exact probabilities: ',exact)"
   ]
  },
  {
   "cell_type": "code",
   "execution_count": 22,
   "metadata": {
    "collapsed": false
   },
   "outputs": [
    {
     "name": "stdout",
     "output_type": "stream",
     "text": [
      "balls: [0 0 0 0 1 1 1 1 1 1]\n",
      "drawing: [1 0 0 1 0 0 0 1 1 0]\n",
      "blue balls: 6\n",
      "red balls: 4\n"
     ]
    }
   ],
   "source": [
    "balls = np.zeros(10, dtype='int') # zero is blue\n",
    "balls[4:] = 1  # one is red\n",
    "print('balls:', balls)\n",
    "drawing = rnd.choice(balls, 10, replace=True)\n",
    "print('drawing:', drawing)\n",
    "print('blue balls:', np.count_nonzero(drawing == 0))\n",
    "print('red balls:', np.count_nonzero(drawing == 1))"
   ]
  },
  {
   "cell_type": "code",
   "execution_count": 23,
   "metadata": {
    "collapsed": false
   },
   "outputs": [
    {
     "name": "stdout",
     "output_type": "stream",
     "text": [
      "poled for A: 508\n",
      "The Dog will predict the wrong winner\n"
     ]
    }
   ],
   "source": [
    "rnd.seed(2)\n",
    "people = np.zeros(1000000, dtype='int')  # candidate A is 0\n",
    "people[490000:] = 1  # candidate B is 1\n",
    "pole = rnd.choice(people, 1000)\n",
    "poled_for_A = np.count_nonzero(pole == 0)\n",
    "print('poled for A:', poled_for_A)\n",
    "if poled_for_A > 500: \n",
    "    print('The Dog will predict the wrong winner')\n",
    "else:\n",
    "    print('The Dog will predict the correct winner')"
   ]
  },
  {
   "cell_type": "code",
   "execution_count": null,
   "metadata": {
    "collapsed": true
   },
   "outputs": [],
   "source": []
  }
 ],
 "metadata": {
  "kernelspec": {
   "display_name": "Python 3",
   "language": "python",
   "name": "python3"
  },
  "language_info": {
   "codemirror_mode": {
    "name": "ipython",
    "version": 3
   },
   "file_extension": ".py",
   "mimetype": "text/x-python",
   "name": "python",
   "nbconvert_exporter": "python",
   "pygments_lexer": "ipython3",
   "version": "3.6.0"
  }
 },
 "nbformat": 4,
 "nbformat_minor": 2
}

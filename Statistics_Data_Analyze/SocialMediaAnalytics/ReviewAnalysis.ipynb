{
 "cells": [
  {
   "cell_type": "code",
   "execution_count": 1,
   "metadata": {},
   "outputs": [
    {
     "name": "stderr",
     "output_type": "stream",
     "text": [
      "[nltk_data] Downloading package vader_lexicon to\n",
      "[nltk_data]     C:\\Users\\jhw\\AppData\\Roaming\\nltk_data...\n",
      "[nltk_data]   Package vader_lexicon is already up-to-date!\n"
     ]
    },
    {
     "data": {
      "text/plain": [
       "True"
      ]
     },
     "execution_count": 1,
     "metadata": {},
     "output_type": "execute_result"
    }
   ],
   "source": [
    "from selenium import webdriver as wd\n",
    "from selenium.webdriver.chrome.options import Options\n",
    "import time\n",
    "import urllib.request\n",
    "import requests\n",
    "import os\n",
    "import nltk\n",
    "from nltk.sentiment.vader import SentimentIntensityAnalyzer\n",
    "nltk.download('vader_lexicon')"
   ]
  },
  {
   "cell_type": "code",
   "execution_count": 2,
   "metadata": {},
   "outputs": [],
   "source": [
    "class Article:\n",
    "    def __init__(self, star, content, date):\n",
    "        self.star = star\n",
    "        self.content = content\n",
    "        self.date = date    "
   ]
  },
  {
   "cell_type": "code",
   "execution_count": 3,
   "metadata": {},
   "outputs": [],
   "source": [
    "options = Options()\n",
    "prefs = {\"profile.managed_default_content_settings.images\": 2}\n",
    "options.add_experimental_option(\"prefs\", prefs)\n",
    "base_url = \"https://www.sitejabber.com/reviews/1800flowers.com?page={}#reviews\"\n",
    "browser = wd.Chrome(\"chromedriver.exe\", options=options)\n",
    "browser.set_page_load_timeout(1000)\n",
    "browser.get(base_url.format(str(1)))\n",
    "review_containers = browser.find_element_by_id(\"reviews_container\").find_elements_by_class_name(\"review_container \")\n",
    "articles = []\n",
    "for review in review_containers:\n",
    "    star = 5 - int(len(review.find_elements_by_class_name(\"star-muted\")))\n",
    "    content = review.find_element_by_tag_name(\"p\").text\n",
    "    try:\n",
    "        read_more_button = review.find_element_by_class_name(\"truncate_more_link\")\n",
    "        read_more_button.click()\n",
    "        # prevent crawl before loaded\n",
    "        time.sleep(5)\n",
    "        content = review.find_element_by_tag_name(\"p\").text\n",
    "    except:\n",
    "        pass\n",
    "    date = browser.find_element_by_class_name(\"time\").text\n",
    "    articles.append(Article(star, content, date))\n",
    "browser.close()"
   ]
  },
  {
   "cell_type": "code",
   "execution_count": 4,
   "metadata": {},
   "outputs": [
    {
     "data": {
      "text/plain": [
       "'We ordered flowers for a funeral service that was being held on Memorial Day in another state to be delivered before the service. When placing the order the website asked what time the funeral service was being held so that the flowers could be there prior to. Well the funeral came and went and no flowers were delivered. When calling 1800Flowers to inquire about why the delivery had not been made we were given a run around the first time we called and the second time we were told that they were at fault because they did not call the Floral shop that they sent the order to confirm they received the order or to check to see if they were even open since it was Memorial Day and told us that they would be delivered the next day between 10 am and 12pm. This was not the response we were looking for since one of the things that was being delivered was a casket pillow with flowers that was supposed to be buried with the deceased. The burial was scheduled the next day at 10 am. No flowers were delivered until after 11:30 the day after the memorial service. They offered no apologies for what happened nor did they offer a refund. I requested a full refund which I was told would take 2-4 weeks to process which is complete BS! They also could not give me confirmation number for the cancelled order told me to just look for an e-mail. After we got off the phone my husband received a text that the flowers were delivered, he called the funeral home and confirmed if they were delivered. The funeral home confirmed the delivery and then said the florist came back and picked the order back up since I asked for a refund. I never in my life will ever use this company and I will be certain to tell everyone I know about this experience.'"
      ]
     },
     "execution_count": 4,
     "metadata": {},
     "output_type": "execute_result"
    }
   ],
   "source": [
    "articles[0].content"
   ]
  },
  {
   "cell_type": "code",
   "execution_count": 5,
   "metadata": {},
   "outputs": [],
   "source": [
    "article_scores = []\n",
    "sid = SentimentIntensityAnalyzer()\n",
    "for article in articles:\n",
    "    article_scores.append(sid.polarity_scores(article.content))"
   ]
  },
  {
   "cell_type": "code",
   "execution_count": 6,
   "metadata": {},
   "outputs": [
    {
     "data": {
      "text/plain": [
       "{'neg': 0.073, 'neu': 0.91, 'pos': 0.017, 'compound': -0.9485}"
      ]
     },
     "execution_count": 6,
     "metadata": {},
     "output_type": "execute_result"
    }
   ],
   "source": [
    "article_scores[0]"
   ]
  },
  {
   "cell_type": "code",
   "execution_count": null,
   "metadata": {},
   "outputs": [],
   "source": []
  }
 ],
 "metadata": {
  "kernelspec": {
   "display_name": "Python 3",
   "language": "python",
   "name": "python3"
  },
  "language_info": {
   "codemirror_mode": {
    "name": "ipython",
    "version": 3
   },
   "file_extension": ".py",
   "mimetype": "text/x-python",
   "name": "python",
   "nbconvert_exporter": "python",
   "pygments_lexer": "ipython3",
   "version": "3.6.7"
  }
 },
 "nbformat": 4,
 "nbformat_minor": 2
}

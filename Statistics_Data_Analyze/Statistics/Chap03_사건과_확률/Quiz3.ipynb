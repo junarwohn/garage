{
 "cells": [
  {
   "cell_type": "code",
   "execution_count": 20,
   "metadata": {},
   "outputs": [
    {
     "name": "stdout",
     "output_type": "stream",
     "text": [
      "Q3.1 Sample space S, Event A, B are listed below\n",
      "['a', 'b', 'c', 'd', 'e', 'f'] ['a', 'c', 'e'] ['b', 'd', 'e']\n"
     ]
    }
   ],
   "source": [
    "print(\"Q3.1 Sample space S, Event A, B are listed below\")\n",
    "S = {'a', 'b','c', 'd', 'e', 'f'}\n",
    "A = {'a', 'c', 'e'}\n",
    "B = {'b', 'd', 'e'}\n",
    "print(sorted(S), sorted(A), sorted(B))"
   ]
  },
  {
   "cell_type": "code",
   "execution_count": 21,
   "metadata": {},
   "outputs": [
    {
     "name": "stdout",
     "output_type": "stream",
     "text": [
      "A union B : ['a', 'b', 'c', 'd', 'e'], A intersection B : ['e'], Complement A : ['b', 'd', 'f']\n",
      "Complement B : ['a', 'c', 'f'], Complement A intersection B : ['b', 'd'], Complement(A union B) : ['f']\n"
     ]
    }
   ],
   "source": [
    "print(\"A union B : {}, A intersection B : {}, Complement A : {}\".format(\n",
    "    sorted(A | B), sorted(A & B), sorted(S - A)\n",
    "))\n",
    "print(\"Complement B : {}, Complement A intersection B : {}, Complement(A union B) : {}\".format(\n",
    "    sorted(S - B), sorted((S - A) & B), sorted(S - (A | B))\n",
    "))"
   ]
  },
  {
   "cell_type": "code",
   "execution_count": 29,
   "metadata": {},
   "outputs": [
    {
     "name": "stdout",
     "output_type": "stream",
     "text": [
      "Q3.2 Rolling two dices\n",
      "(1) How many sample point in this sample space?\n",
      "36\n",
      "(2) Find the probability when sum of two dices is 8\n",
      "5/36\n",
      "(3) Find the probability when sum of two dices is even\n",
      "18/36\n"
     ]
    }
   ],
   "source": [
    "print(\"Q3.2 Rolling two dices\")\n",
    "sample_space = [i + j for i in range(1, 7) for j in range(1, 7)]\n",
    "print(\"(1) How many sample point in this sample space?\")\n",
    "print(len(sample_space))\n",
    "print(\"(2) Find the probability when sum of two dices is 8\")\n",
    "print(\"{}/{}\".format(sample_space.count(8), len(sample_space)))\n",
    "print(\"(3) Find the probability when sum of two dices is even\")\n",
    "print(\"{}/{}\".format([i % 2 for i in sample_space].count(0), len(sample_space)))"
   ]
  },
  {
   "cell_type": "code",
   "execution_count": 31,
   "metadata": {},
   "outputs": [
    {
     "name": "stdout",
     "output_type": "stream",
     "text": [
      "Q3.3 20% of voters in country support A party. Randomly select three of voters and find support A.\n",
      "What is sample space?\n",
      "['YYY', 'YYN', 'YNY', 'YNN', 'NYY', 'NYN', 'NNY', 'NNN']\n"
     ]
    }
   ],
   "source": [
    "print(\"Q3.3 20% of voters in country support A party. Randomly select three of voters and find support A.\")\n",
    "print(\"(1) What is sample space?\")\n",
    "print([i + j + k for i in list(\"YN\") for j in list(\"YN\") for k in list(\"YN\")])\n",
    "print(\"(2) \")"
   ]
  },
  {
   "cell_type": "code",
   "execution_count": null,
   "metadata": {},
   "outputs": [],
   "source": []
  }
 ],
 "metadata": {
  "kernelspec": {
   "display_name": "Python 3",
   "language": "python",
   "name": "python3"
  },
  "language_info": {
   "codemirror_mode": {
    "name": "ipython",
    "version": 3
   },
   "file_extension": ".py",
   "mimetype": "text/x-python",
   "name": "python",
   "nbconvert_exporter": "python",
   "pygments_lexer": "ipython3",
   "version": "3.6.7"
  }
 },
 "nbformat": 4,
 "nbformat_minor": 2
}

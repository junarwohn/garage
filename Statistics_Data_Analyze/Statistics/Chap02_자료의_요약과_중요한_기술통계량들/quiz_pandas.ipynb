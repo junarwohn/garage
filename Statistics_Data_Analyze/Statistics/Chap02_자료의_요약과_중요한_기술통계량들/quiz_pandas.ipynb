{
 "cells": [
  {
   "cell_type": "code",
   "execution_count": 1,
   "metadata": {},
   "outputs": [],
   "source": [
    "import pandas as pd\n",
    "import numpy as np\n",
    "import matplotlib.pyplot as plt\n",
    "import math"
   ]
  },
  {
   "cell_type": "code",
   "execution_count": 2,
   "metadata": {},
   "outputs": [
    {
     "name": "stdout",
     "output_type": "stream",
     "text": [
      "Q2.1 Subscibers of magazine were studied as described below\n",
      "   Interval  Subscribers\n",
      "0  (20, 30]         1420\n",
      "1  (30, 40]         2500\n",
      "2  (40, 50]         1590\n",
      "3  (50, 60]          850\n",
      "4  (60, 70]          325\n"
     ]
    }
   ],
   "source": [
    "print(\"Q2.1 Subscibers of magazine were studied as described below\")\n",
    "df_0201 = pd.DataFrame({\n",
    "    'Interval' : [pd.Interval(left=i, right=i+10, closed='right') for i in range(20, 70, 10)],\n",
    "    'Subscribers' : [1420, 2500, 1590, 850, 325]\n",
    "})\n",
    "print(df_0201)"
   ]
  },
  {
   "cell_type": "code",
   "execution_count": 3,
   "metadata": {},
   "outputs": [
    {
     "name": "stdout",
     "output_type": "stream",
     "text": [
      "Distribution of Age Interval, Subscribers, Relative Frequency, Cumulative Relative Frequency are listed as follows\n"
     ]
    },
    {
     "data": {
      "text/html": [
       "<div>\n",
       "<style scoped>\n",
       "    .dataframe tbody tr th:only-of-type {\n",
       "        vertical-align: middle;\n",
       "    }\n",
       "\n",
       "    .dataframe tbody tr th {\n",
       "        vertical-align: top;\n",
       "    }\n",
       "\n",
       "    .dataframe thead th {\n",
       "        text-align: right;\n",
       "    }\n",
       "</style>\n",
       "<table border=\"1\" class=\"dataframe\">\n",
       "  <thead>\n",
       "    <tr style=\"text-align: right;\">\n",
       "      <th></th>\n",
       "      <th>Interval</th>\n",
       "      <th>Subscribers</th>\n",
       "      <th>Relative Frequency</th>\n",
       "      <th>Cumulative Relative Frequency</th>\n",
       "    </tr>\n",
       "  </thead>\n",
       "  <tbody>\n",
       "    <tr>\n",
       "      <th>0</th>\n",
       "      <td>(20, 30]</td>\n",
       "      <td>1420</td>\n",
       "      <td>0.212416</td>\n",
       "      <td>0.212416</td>\n",
       "    </tr>\n",
       "    <tr>\n",
       "      <th>1</th>\n",
       "      <td>(30, 40]</td>\n",
       "      <td>2500</td>\n",
       "      <td>0.373972</td>\n",
       "      <td>0.586387</td>\n",
       "    </tr>\n",
       "    <tr>\n",
       "      <th>2</th>\n",
       "      <td>(40, 50]</td>\n",
       "      <td>1590</td>\n",
       "      <td>0.237846</td>\n",
       "      <td>0.824233</td>\n",
       "    </tr>\n",
       "    <tr>\n",
       "      <th>3</th>\n",
       "      <td>(50, 60]</td>\n",
       "      <td>850</td>\n",
       "      <td>0.127150</td>\n",
       "      <td>0.951384</td>\n",
       "    </tr>\n",
       "    <tr>\n",
       "      <th>4</th>\n",
       "      <td>(60, 70]</td>\n",
       "      <td>325</td>\n",
       "      <td>0.048616</td>\n",
       "      <td>1.000000</td>\n",
       "    </tr>\n",
       "  </tbody>\n",
       "</table>\n",
       "</div>"
      ],
      "text/plain": [
       "   Interval  Subscribers  Relative Frequency  Cumulative Relative Frequency\n",
       "0  (20, 30]         1420            0.212416                       0.212416\n",
       "1  (30, 40]         2500            0.373972                       0.586387\n",
       "2  (40, 50]         1590            0.237846                       0.824233\n",
       "3  (50, 60]          850            0.127150                       0.951384\n",
       "4  (60, 70]          325            0.048616                       1.000000"
      ]
     },
     "execution_count": 3,
     "metadata": {},
     "output_type": "execute_result"
    }
   ],
   "source": [
    "print(\"Distribution of Age Interval, Subscribers, Relative Frequency, Cumulative Relative Frequency are listed as follows\")\n",
    "total_subscriber = sum(df_0201['Subscribers'])\n",
    "df_0201['Relative Frequency'] = [i / total_subscriber for i in df_0201['Subscribers']] \n",
    "df_0201['Cumulative Relative Frequency'] = [sum(df_0201['Relative Frequency'][:i + 1]) for i in range(len(df_0201['Relative Frequency']))]\n",
    "#df_0201.loc['Total', \"Subscribers\"] = df_0201[\"Subscribers\"].sum()\n",
    "#df_0201.loc['Total', \"Relative Frequency\"] = df_0201[\"Relative Frequency\"].sum()\n",
    "#df_0201.loc['Total', \"Cumulative Relative Frequency\"] = np.nan\n",
    "df_0201"
   ]
  },
  {
   "cell_type": "code",
   "execution_count": 4,
   "metadata": {},
   "outputs": [
    {
     "data": {
      "text/plain": [
       "<matplotlib.axes._subplots.AxesSubplot at 0x15e62166a20>"
      ]
     },
     "execution_count": 4,
     "metadata": {},
     "output_type": "execute_result"
    },
    {
     "data": {
      "image/png": "[encoded data removed]",
      "text/plain": [
       "<Figure size 432x288 with 1 Axes>"
      ]
     },
     "metadata": {
      "needs_background": "light"
     },
     "output_type": "display_data"
    }
   ],
   "source": [
    "df_0201[\"Relative Frequency\"][:-1].plot(kind='bar', rot=0)"
   ]
  },
  {
   "cell_type": "code",
   "execution_count": 5,
   "metadata": {},
   "outputs": [
    {
     "name": "stdout",
     "output_type": "stream",
     "text": [
      "Q2.2 Weight loss of diet program are as follows. Show mean, variance, standard deviation\n",
      "0     5\n",
      "1    10\n",
      "2     7\n",
      "3     1\n",
      "4     9\n",
      "dtype: int64\n",
      "Mean 6.4, Variance 12.8, Standard Deviation 3.58\n"
     ]
    }
   ],
   "source": [
    "print(\"Q2.2 Weight loss of diet program are as follows. Show mean, variance, standard deviation\")\n",
    "df_0202 = pd.Series([5, 10, 7, 1, 9])\n",
    "print(df_0202)\n",
    "print(\"Mean {}, Variance {}, Standard Deviation {}\".format(\n",
    "    round(df_0202.mean(), 2),round(df_0202.var(), 2), round(df_0202.std(), 2)\n",
    "))"
   ]
  },
  {
   "cell_type": "code",
   "execution_count": 6,
   "metadata": {},
   "outputs": [
    {
     "name": "stdout",
     "output_type": "stream",
     "text": [
      "Q2.3 Promoted employee's scores are followed. Find mean, median, variance, standard deviation, range, quartiles\n",
      "Mean 75.03333333333333, Median 75.0, Variance 93.61954022988506, Standard Deviation 9.67571910660314, Range 40\n"
     ]
    }
   ],
   "source": [
    "print(\"Q2.3 Promoted employee's scores are followed. Find mean, median, variance, standard deviation, range, quartiles\")\n",
    "promotion_score = [\n",
    "    75, 55, 86, 76, 67, 95, 68, 79, 71, 75,\n",
    "    80, 83, 70, 61, 66, 77, 82, 74, 80, 80,\n",
    "    56, 75, 62, 67, 72, 85, 91, 80, 75, 88\n",
    "]\n",
    "df_0203 = pd.Series(promotion_score)\n",
    "print(\"Mean {}, Median {}, Variance {}, Standard Deviation {}, Range {}\".format(\n",
    "    df_0203.mean(), df_0203.median(), df_0203.var(),\n",
    "    df_0203.std(), max(df_0203) - min(df_0203)\n",
    "))"
   ]
  },
  {
   "cell_type": "code",
   "execution_count": 7,
   "metadata": {},
   "outputs": [
    {
     "name": "stdout",
     "output_type": "stream",
     "text": [
      "Q2.4 Find frequency distribution and mean, variance, standard deviation from it\n",
      "(1) Frequency Distribution\n",
      "       Interval  Scores\n",
      "0  (54.5, 61.5]       3\n",
      "1  (61.5, 68.5]       5\n",
      "2  (68.5, 75.5]       8\n",
      "3  (75.5, 82.5]       8\n",
      "4  (82.5, 89.5]       4\n",
      "5  (89.5, 96.5]       2\n",
      "(2) mean, variance, standard deviation\n",
      "Mean 74.56666666666666, Variance 92.87471264367817, Standard Deviation 9.63715272493272\n"
     ]
    }
   ],
   "source": [
    "print(\"Q2.4 Find frequency distribution and mean, variance, standard deviation from it\")\n",
    "df_0204 = df_0203.to_frame()\n",
    "\n",
    "range_0204 = max(promotion_score) - min(promotion_score)\n",
    "interval_n = 1 + int(math.log(range_0204, 2))\n",
    "interval_g = math.ceil(range_0204 / interval_n)\n",
    "df_0204 = pd.DataFrame({\n",
    "    'Interval' : [pd.Interval(\n",
    "        left=min(promotion_score) + interval_g * i - 0.5,\n",
    "        right=min(promotion_score) + interval_g * (i + 1) - 0.5,\n",
    "        closed='right'\n",
    "    ) for i in range(interval_n)],\n",
    "    'Scores' : [0 for i in range(interval_n)]\n",
    "})\n",
    "\n",
    "for pro_s in promotion_score:\n",
    "    for i in range(len(df_0204['Interval'])):\n",
    "        if pro_s in df_0204['Interval'][i]:\n",
    "            df_0204.at[i, 'Scores'] += 1\n",
    "            break\n",
    "\n",
    "print(\"(1) Frequency Distribution\")\n",
    "print(df_0204)\n",
    "print(\"(2) mean, variance, standard deviation\")\n",
    "t_s = sum(df_0204['Scores'])\n",
    "d_f = t_s - 1\n",
    "mean = sum([i.mid * s for i,s in zip(df_0204['Interval'], df_0204['Scores'])]) / t_s \n",
    "var = sum([((i.mid - mean)**2) * s for i,s in zip(df_0204['Interval'], df_0204['Scores'])]) / d_f \n",
    "std = var**0.5\n",
    "print(\"Mean {}, Variance {}, Standard Deviation {}\".format(mean, var, std))"
   ]
  },
  {
   "cell_type": "code",
   "execution_count": 8,
   "metadata": {},
   "outputs": [
    {
     "name": "stdout",
     "output_type": "stream",
     "text": [
      "Q2.5 Find mean, variance, standard deviation age of Q2.1\n",
      "Mean 39.25579655946148, Variance 121.54736503341127, Standard Deviation 11.024852154718959\n"
     ]
    }
   ],
   "source": [
    "print(\"Q2.5 Find mean, variance, standard deviation age of Q2.1\")\n",
    "df_0205 = df_0201.copy()\n",
    "t_s = sum(df_0205['Subscribers'])\n",
    "d_f = t_s - 1\n",
    "mean = sum([i.mid * s for i,s in zip(df_0205['Interval'], df_0205['Subscribers'])]) / t_s \n",
    "var = sum([((i.mid - mean)**2) * s for i,s in zip(df_0205['Interval'], df_0205['Subscribers'])]) / d_f \n",
    "std = var**0.5\n",
    "print(\"Mean {}, Variance {}, Standard Deviation {}\".format(mean, var, std))"
   ]
  },
  {
   "cell_type": "code",
   "execution_count": 9,
   "metadata": {},
   "outputs": [
    {
     "name": "stdout",
     "output_type": "stream",
     "text": [
      "Q2.6 There are 4000 people in Semiconductor dept, 6000 in Home appliance dept. Salary of each dept is 4500, 3700.\n",
      "Find average salary of last year\n",
      "Mean 4020.0\n"
     ]
    }
   ],
   "source": [
    "print(\"Q2.6 There are 4000 people in Semiconductor dept, 6000 in Home appliance dept. Salary of each dept is 4500, 3700.\")\n",
    "print(\"Find average salary of last year\") \n",
    "df_0206 = pd.DataFrame({\n",
    "    'Dept' : ['SemiConductor', 'Home Appliance'],\n",
    "    'Employee' : [4000, 6000],\n",
    "    'Salary' : [4500, 3700]\n",
    "})\n",
    "t_s = sum(df_0206['Employee'])\n",
    "mean = sum([e * s for e,s in zip(df_0206['Employee'], df_0206['Salary'])]) / t_s\n",
    "print(\"Mean {}\".format(mean))"
   ]
  },
  {
   "cell_type": "code",
   "execution_count": 10,
   "metadata": {},
   "outputs": [
    {
     "name": "stdout",
     "output_type": "stream",
     "text": [
      "Q2.10 Scores of five students are listed below\n",
      "Mean 5.0, Standard Deviation 1.5811388300841898\n"
     ]
    }
   ],
   "source": [
    "print(\"Q2.10 Scores of five students are listed below\")\n",
    "df_0209 = pd.Series([5, 7, 4, 3, 6])\n",
    "print(\"Mean {}, Standard Deviation {}\".format(df_0209.mean(), df_0209.std()))"
   ]
  },
  {
   "cell_type": "code",
   "execution_count": 11,
   "metadata": {},
   "outputs": [
    {
     "name": "stdout",
     "output_type": "stream",
     "text": [
      "If translate perfect score to 100, Mean 50.0, Standard Deviation 15.811388300841896\n"
     ]
    }
   ],
   "source": [
    "df_0209 *= 10\n",
    "print(\"If translate perfect score to 100, Mean {}, Standard Deviation {}\".format(df_0209.mean(), df_0209.std()))"
   ]
  },
  {
   "cell_type": "code",
   "execution_count": 12,
   "metadata": {},
   "outputs": [
    {
     "name": "stdout",
     "output_type": "stream",
     "text": [
      "If add 20 each student's score, Mean 70.0, Standard Deviation 15.811388300841896\n"
     ]
    }
   ],
   "source": [
    "df_0209 += 20\n",
    "print(\"If add 20 each student's score, Mean {}, Standard Deviation {}\".format(df_0209.mean(), df_0209.std()))"
   ]
  },
  {
   "cell_type": "code",
   "execution_count": 13,
   "metadata": {},
   "outputs": [
    {
     "name": "stdout",
     "output_type": "stream",
     "text": [
      "Q2.12 z-score\n",
      "0   -0.730297\n",
      "1    0.000000\n",
      "2   -1.095445\n",
      "3    1.460593\n",
      "4    0.365148\n",
      "dtype: float64\n",
      "z-score's Mean 0.0, Variance 0.9999999999999998, Standard Deviation 0.9999999999999999\n"
     ]
    }
   ],
   "source": [
    "print(\"Q2.12 z-score\")\n",
    "df_0212 = pd.Series([18, 20, 17, 24, 21])\n",
    "mean = df_0212.mean()\n",
    "std = df_0212.std()\n",
    "df_0212 = (df_0212 - mean) / std\n",
    "print(df_0212)\n",
    "print(\"z-score's Mean {}, Variance {}, Standard Deviation {}\".format(df_0212.mean(), df_0212.var(), df_0212.std()))"
   ]
  },
  {
   "cell_type": "code",
   "execution_count": 28,
   "metadata": {},
   "outputs": [
    {
     "name": "stdout",
     "output_type": "stream",
     "text": [
      "Q2.14 Observation of X, Y is listed below\n",
      "Covariance\n",
      "      X     Y\n",
      "X  2.50  2.75\n",
      "Y  2.75  4.30\n",
      "Correlation Coefficient\n",
      "          X         Y\n",
      "X  1.000000  0.838742\n",
      "Y  0.838742  1.000000\n"
     ]
    },
    {
     "data": {
      "image/png": "[encoded data removed]",
      "text/plain": [
       "<Figure size 432x288 with 1 Axes>"
      ]
     },
     "metadata": {
      "needs_background": "light"
     },
     "output_type": "display_data"
    }
   ],
   "source": [
    "print('Q2.14 Observation of X, Y is listed below')\n",
    "df_0214 = pd.DataFrame({\n",
    "    'X' : [1,2,3,4,5],\n",
    "    'Y' : [1,3,2,6,5]\n",
    "})\n",
    "df_0214.plot(kind='scatter', x='X', y='Y')\n",
    "print(\"Covariance\")\n",
    "print(df_0214.cov())\n",
    "print(\"Correlation Coefficient\")\n",
    "print(df_0214.corr())"
   ]
  },
  {
   "cell_type": "code",
   "execution_count": 30,
   "metadata": {},
   "outputs": [
    {
     "name": "stdout",
     "output_type": "stream",
     "text": [
      "Q2.15 Pracice time(X), absent(Y) are listed below\n",
      "Covariance\n",
      "     X    Y\n",
      "X  5.3 -4.9\n",
      "Y -4.9  5.7\n",
      "Correlation Coefficient\n",
      "          X         Y\n",
      "X  1.000000 -0.891499\n",
      "Y -0.891499  1.000000\n"
     ]
    },
    {
     "data": {
      "image/png": "[encoded data removed]",
      "text/plain": [
       "<Figure size 432x288 with 1 Axes>"
      ]
     },
     "metadata": {
      "needs_background": "light"
     },
     "output_type": "display_data"
    }
   ],
   "source": [
    "print(\"Q2.15 Pracice time(X), absent(Y) are listed below\")\n",
    "df_0215 = pd.DataFrame({\n",
    "    'X' : [3,2,6,0,1],\n",
    "    'Y' : [1,4,0,6,3]\n",
    "})\n",
    "df_0215.plot(kind='scatter', x='X', y='Y')\n",
    "print(\"Covariance\")\n",
    "print(df_0215.cov())\n",
    "print(\"Correlation Coefficient\")\n",
    "print(df_0215.corr())"
   ]
  },
  {
   "cell_type": "code",
   "execution_count": null,
   "metadata": {},
   "outputs": [],
   "source": []
  }
 ],
 "metadata": {
  "kernelspec": {
   "display_name": "Python 3",
   "language": "python",
   "name": "python3"
  },
  "language_info": {
   "codemirror_mode": {
    "name": "ipython",
    "version": 3
   },
   "file_extension": ".py",
   "mimetype": "text/x-python",
   "name": "python",
   "nbconvert_exporter": "python",
   "pygments_lexer": "ipython3",
   "version": "3.6.7"
  }
 },
 "nbformat": 4,
 "nbformat_minor": 2
}

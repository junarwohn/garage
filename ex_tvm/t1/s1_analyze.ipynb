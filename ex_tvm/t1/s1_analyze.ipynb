{
 "cells": [
  {
   "cell_type": "code",
   "execution_count": 1,
   "source": [
    "import numpy as np\n",
    "\n",
    "from tvm import relay\n",
    "from tvm.relay import testing\n",
    "import tvm\n",
    "from tvm import te\n",
    "from tvm.contrib import graph_executor\n",
    "import tvm.testing\n"
   ],
   "outputs": [],
   "metadata": {}
  },
  {
   "cell_type": "code",
   "execution_count": null,
   "source": [
    "\n",
    "batch_size = 1\n",
    "num_class = 1000\n",
    "image_shape = (3, 224, 224)\n",
    "data_shape = (batch_size,) + image_shape\n",
    "out_shape = (batch_size, num_class)\n",
    "\n",
    "# get_workload : \n",
    "mod, params = relay.testing.vgg.get_workload(\n",
    "    num_layers=16, batch_size=batch_size, image_shape=image_shape\n",
    "    )\n",
    "\n",
    "\n",
    "\n",
    "\n",
    "opt_level = 3\n",
    "# opt_level = 1\n",
    "target = tvm.target.cuda()\n",
    "with tvm.transform.PassContext(opt_level=opt_level):\n",
    "    lib = relay.build(mod, target, params=params)\n",
    "\n",
    "# create random input\n",
    "dev = tvm.cuda()\n",
    "data = np.random.uniform(-1, 1, size=data_shape).astype('float32')\n",
    "print(\"shape of input data :\", data.shape)\n",
    "\n",
    "# create module\n",
    "module = graph_executor.GraphModule(lib['default'](dev))\n",
    "\n",
    "# set input and parameter\n",
    "module.set_input('data', data)\n",
    "\n",
    "# run\n",
    "module.run()\n",
    "\n",
    "# get output\n",
    "out = module.get_output(0, tvm.nd.empty(out_shape)).asnumpy()\n",
    "\n",
    "# print first 10 elements of output\n",
    "print(out.flatten()[0:10])\n",
    "\n",
    "from tvm.contrib import utils\n",
    "\n",
    "temp = utils.tempdir()\n",
    "path_lib = temp.relpath('deploy_lib.tar')\n",
    "lib.export_library(path_lib)\n",
    "print(temp.listdir())\n",
    "\n",
    "# load the module back.\n",
    "loaded_lib = tvm.runtime.load_module(path_lib)\n",
    "input_data = tvm.nd.array(data)\n",
    "\n",
    "module = graph_executor.GraphModule(loaded_lib['default'](dev))\n",
    "module.run(data=input_data)\n",
    "out_deploy = module.get_output(0).asnumpy()\n",
    "\n",
    "graph_json = lib.get_graph_json()\n",
    "print(graph_json)\n",
    "\n",
    "# print first 10 elements of output\n",
    "print(out_deploy.flatten()[0:10])\n",
    "\n",
    "# check whether the output from deployed module is consistent with original one\n",
    "tvm.testing.assert_allclose(out_deploy, out, atol=1e-5)\n"
   ],
   "outputs": [],
   "metadata": {}
  },
  {
   "cell_type": "code",
   "execution_count": 17,
   "source": [
    "rgraph = tvm.relay.analysis.CallGraph(mod)"
   ],
   "outputs": [],
   "metadata": {}
  },
  {
   "cell_type": "code",
   "execution_count": 4,
   "source": [
    "import json"
   ],
   "outputs": [],
   "metadata": {}
  },
  {
   "cell_type": "code",
   "execution_count": 5,
   "source": [
    "ll = json.loads(graph_json)"
   ],
   "outputs": [],
   "metadata": {}
  },
  {
   "cell_type": "code",
   "execution_count": 19,
   "source": [
    "for i in ll['nodes']:\n",
    "    print(i)"
   ],
   "outputs": [
    {
     "output_type": "stream",
     "name": "stdout",
     "text": [
      "{'op': 'null', 'name': 'data', 'inputs': []}\n",
      "{'op': 'null', 'name': 'p0', 'inputs': []}\n",
      "{'op': 'tvm_op', 'name': 'tvmgen_default_fused_nn_conv2d', 'attrs': {'num_outputs': '1', 'flatten_data': '0', 'data_layout': 'NCHW', 'hash': 'fcf4c3eba41f0b65', 'num_inputs': '2', 'kernel_layout': 'OIHW', 'out_layout': '', 'func_name': 'tvmgen_default_fused_nn_conv2d'}, 'inputs': [[0, 0, 0], [1, 0, 0]]}\n",
      "{'op': 'null', 'name': 'p1', 'inputs': []}\n",
      "{'op': 'tvm_op', 'name': 'tvmgen_default_fused_add', 'attrs': {'num_inputs': '2', 'num_outputs': '1', 'hash': '9944b64f2bf8d828', 'flatten_data': '0', 'func_name': 'tvmgen_default_fused_add'}, 'inputs': [[2, 0, 0], [3, 0, 0]]}\n",
      "{'op': 'tvm_op', 'name': 'tvmgen_default_fused_nn_relu', 'attrs': {'num_inputs': '1', 'num_outputs': '1', 'hash': 'ee5a8a7342ec30c9', 'flatten_data': '0', 'func_name': 'tvmgen_default_fused_nn_relu'}, 'inputs': [[4, 0, 0]]}\n",
      "{'op': 'null', 'name': 'p2', 'inputs': []}\n",
      "{'op': 'tvm_op', 'name': 'tvmgen_default_fused_nn_contrib_conv2d_winograd_without_weight_transform', 'attrs': {'num_outputs': '1', 'flatten_data': '0', 'data_layout': 'NCHW', 'hash': '714229ee9577dc76', 'num_inputs': '2', 'kernel_layout': 'OIHW', 'out_layout': '', 'func_name': 'tvmgen_default_fused_nn_contrib_conv2d_winograd_without_weight_transform'}, 'inputs': [[5, 0, 0], [6, 0, 0]]}\n",
      "{'op': 'null', 'name': 'p3', 'inputs': []}\n",
      "{'op': 'tvm_op', 'name': 'tvmgen_default_fused_add1', 'attrs': {'num_inputs': '2', 'num_outputs': '1', 'hash': '9944b64f2bf8d828', 'flatten_data': '0', 'func_name': 'tvmgen_default_fused_add'}, 'inputs': [[7, 0, 0], [8, 0, 0]]}\n",
      "{'op': 'tvm_op', 'name': 'tvmgen_default_fused_nn_relu1', 'attrs': {'num_inputs': '1', 'num_outputs': '1', 'hash': 'ee5a8a7342ec30c9', 'flatten_data': '0', 'func_name': 'tvmgen_default_fused_nn_relu'}, 'inputs': [[9, 0, 0]]}\n",
      "{'op': 'tvm_op', 'name': 'tvmgen_default_fused_nn_max_pool2d', 'attrs': {'num_outputs': '1', 'layout': 'NCHW', 'func_name': 'tvmgen_default_fused_nn_max_pool2d', 'flatten_data': '0', 'hash': 'ea769838b452a873', 'num_inputs': '1'}, 'inputs': [[10, 0, 0]]}\n",
      "{'op': 'null', 'name': 'p4', 'inputs': []}\n",
      "{'op': 'tvm_op', 'name': 'tvmgen_default_fused_nn_contrib_conv2d_winograd_without_weight_transform_1', 'attrs': {'num_outputs': '1', 'flatten_data': '0', 'data_layout': 'NCHW', 'hash': '203ef26d439c636d', 'num_inputs': '2', 'kernel_layout': 'OIHW', 'out_layout': '', 'func_name': 'tvmgen_default_fused_nn_contrib_conv2d_winograd_without_weight_transform_1'}, 'inputs': [[11, 0, 0], [12, 0, 0]]}\n",
      "{'op': 'null', 'name': 'p5', 'inputs': []}\n",
      "{'op': 'tvm_op', 'name': 'tvmgen_default_fused_add_1', 'attrs': {'num_inputs': '2', 'num_outputs': '1', 'hash': '91b93c70f112e0de', 'flatten_data': '0', 'func_name': 'tvmgen_default_fused_add_1'}, 'inputs': [[13, 0, 0], [14, 0, 0]]}\n",
      "{'op': 'tvm_op', 'name': 'tvmgen_default_fused_nn_relu_1', 'attrs': {'num_inputs': '1', 'num_outputs': '1', 'hash': 'a895ab1bcd980ccc', 'flatten_data': '0', 'func_name': 'tvmgen_default_fused_nn_relu_1'}, 'inputs': [[15, 0, 0]]}\n",
      "{'op': 'null', 'name': 'p6', 'inputs': []}\n",
      "{'op': 'tvm_op', 'name': 'tvmgen_default_fused_nn_contrib_conv2d_winograd_without_weight_transform_2', 'attrs': {'num_outputs': '1', 'flatten_data': '0', 'data_layout': 'NCHW', 'hash': '43a11fe6d5bfac13', 'num_inputs': '2', 'kernel_layout': 'OIHW', 'out_layout': '', 'func_name': 'tvmgen_default_fused_nn_contrib_conv2d_winograd_without_weight_transform_2'}, 'inputs': [[16, 0, 0], [17, 0, 0]]}\n",
      "{'op': 'null', 'name': 'p7', 'inputs': []}\n",
      "{'op': 'tvm_op', 'name': 'tvmgen_default_fused_add_11', 'attrs': {'num_inputs': '2', 'num_outputs': '1', 'hash': '91b93c70f112e0de', 'flatten_data': '0', 'func_name': 'tvmgen_default_fused_add_1'}, 'inputs': [[18, 0, 0], [19, 0, 0]]}\n",
      "{'op': 'tvm_op', 'name': 'tvmgen_default_fused_nn_relu_11', 'attrs': {'num_inputs': '1', 'num_outputs': '1', 'hash': 'a895ab1bcd980ccc', 'flatten_data': '0', 'func_name': 'tvmgen_default_fused_nn_relu_1'}, 'inputs': [[20, 0, 0]]}\n",
      "{'op': 'tvm_op', 'name': 'tvmgen_default_fused_nn_max_pool2d_1', 'attrs': {'num_outputs': '1', 'layout': 'NCHW', 'func_name': 'tvmgen_default_fused_nn_max_pool2d_1', 'flatten_data': '0', 'hash': '3d09409f4445dd0f', 'num_inputs': '1'}, 'inputs': [[21, 0, 0]]}\n",
      "{'op': 'null', 'name': 'p8', 'inputs': []}\n",
      "{'op': 'tvm_op', 'name': 'tvmgen_default_fused_nn_contrib_conv2d_winograd_without_weight_transform_3', 'attrs': {'num_outputs': '1', 'flatten_data': '0', 'data_layout': 'NCHW', 'hash': 'a1529a88436a2799', 'num_inputs': '2', 'kernel_layout': 'OIHW', 'out_layout': '', 'func_name': 'tvmgen_default_fused_nn_contrib_conv2d_winograd_without_weight_transform_3'}, 'inputs': [[22, 0, 0], [23, 0, 0]]}\n",
      "{'op': 'null', 'name': 'p9', 'inputs': []}\n",
      "{'op': 'tvm_op', 'name': 'tvmgen_default_fused_add_2', 'attrs': {'num_inputs': '2', 'num_outputs': '1', 'hash': 'f9a1c98cc404a5d3', 'flatten_data': '0', 'func_name': 'tvmgen_default_fused_add_2'}, 'inputs': [[24, 0, 0], [25, 0, 0]]}\n",
      "{'op': 'tvm_op', 'name': 'tvmgen_default_fused_nn_relu_2', 'attrs': {'num_inputs': '1', 'num_outputs': '1', 'hash': 'd80e6bbcb59c1348', 'flatten_data': '0', 'func_name': 'tvmgen_default_fused_nn_relu_2'}, 'inputs': [[26, 0, 0]]}\n",
      "{'op': 'null', 'name': 'p10', 'inputs': []}\n",
      "{'op': 'tvm_op', 'name': 'tvmgen_default_fused_nn_contrib_conv2d_winograd_without_weight_transform_4', 'attrs': {'num_outputs': '1', 'flatten_data': '0', 'data_layout': 'NCHW', 'hash': '246d763fe66ee04b', 'num_inputs': '2', 'kernel_layout': 'OIHW', 'out_layout': '', 'func_name': 'tvmgen_default_fused_nn_contrib_conv2d_winograd_without_weight_transform_4'}, 'inputs': [[27, 0, 0], [28, 0, 0]]}\n",
      "{'op': 'null', 'name': 'p11', 'inputs': []}\n",
      "{'op': 'tvm_op', 'name': 'tvmgen_default_fused_add_21', 'attrs': {'num_inputs': '2', 'num_outputs': '1', 'hash': 'f9a1c98cc404a5d3', 'flatten_data': '0', 'func_name': 'tvmgen_default_fused_add_2'}, 'inputs': [[29, 0, 0], [30, 0, 0]]}\n",
      "{'op': 'tvm_op', 'name': 'tvmgen_default_fused_nn_relu_21', 'attrs': {'num_inputs': '1', 'num_outputs': '1', 'hash': 'd80e6bbcb59c1348', 'flatten_data': '0', 'func_name': 'tvmgen_default_fused_nn_relu_2'}, 'inputs': [[31, 0, 0]]}\n",
      "{'op': 'null', 'name': 'p12', 'inputs': []}\n",
      "{'op': 'tvm_op', 'name': 'tvmgen_default_fused_nn_contrib_conv2d_winograd_without_weight_transform_41', 'attrs': {'num_outputs': '1', 'flatten_data': '0', 'data_layout': 'NCHW', 'hash': '246d763fe66ee04b', 'num_inputs': '2', 'kernel_layout': 'OIHW', 'out_layout': '', 'func_name': 'tvmgen_default_fused_nn_contrib_conv2d_winograd_without_weight_transform_4'}, 'inputs': [[32, 0, 0], [33, 0, 0]]}\n",
      "{'op': 'null', 'name': 'p13', 'inputs': []}\n",
      "{'op': 'tvm_op', 'name': 'tvmgen_default_fused_add_22', 'attrs': {'num_inputs': '2', 'num_outputs': '1', 'hash': 'f9a1c98cc404a5d3', 'flatten_data': '0', 'func_name': 'tvmgen_default_fused_add_2'}, 'inputs': [[34, 0, 0], [35, 0, 0]]}\n",
      "{'op': 'tvm_op', 'name': 'tvmgen_default_fused_nn_relu_22', 'attrs': {'num_inputs': '1', 'num_outputs': '1', 'hash': 'd80e6bbcb59c1348', 'flatten_data': '0', 'func_name': 'tvmgen_default_fused_nn_relu_2'}, 'inputs': [[36, 0, 0]]}\n",
      "{'op': 'tvm_op', 'name': 'tvmgen_default_fused_nn_max_pool2d_2', 'attrs': {'num_outputs': '1', 'layout': 'NCHW', 'func_name': 'tvmgen_default_fused_nn_max_pool2d_2', 'flatten_data': '0', 'hash': '4100a7fd0692241c', 'num_inputs': '1'}, 'inputs': [[37, 0, 0]]}\n",
      "{'op': 'null', 'name': 'p14', 'inputs': []}\n",
      "{'op': 'tvm_op', 'name': 'tvmgen_default_fused_nn_contrib_conv2d_winograd_without_weight_transform_5', 'attrs': {'num_outputs': '1', 'flatten_data': '0', 'data_layout': 'NCHW', 'hash': 'ba50356c35f7f780', 'num_inputs': '2', 'kernel_layout': 'OIHW', 'out_layout': '', 'func_name': 'tvmgen_default_fused_nn_contrib_conv2d_winograd_without_weight_transform_5'}, 'inputs': [[38, 0, 0], [39, 0, 0]]}\n",
      "{'op': 'null', 'name': 'p15', 'inputs': []}\n",
      "{'op': 'tvm_op', 'name': 'tvmgen_default_fused_add_3', 'attrs': {'num_inputs': '2', 'num_outputs': '1', 'hash': '5f60c946cded3e4d', 'flatten_data': '0', 'func_name': 'tvmgen_default_fused_add_3'}, 'inputs': [[40, 0, 0], [41, 0, 0]]}\n",
      "{'op': 'tvm_op', 'name': 'tvmgen_default_fused_nn_relu_3', 'attrs': {'num_inputs': '1', 'num_outputs': '1', 'hash': '8f783257afe26ec3', 'flatten_data': '0', 'func_name': 'tvmgen_default_fused_nn_relu_3'}, 'inputs': [[42, 0, 0]]}\n",
      "{'op': 'null', 'name': 'p16', 'inputs': []}\n",
      "{'op': 'tvm_op', 'name': 'tvmgen_default_fused_nn_contrib_conv2d_winograd_without_weight_transform_6', 'attrs': {'num_outputs': '1', 'flatten_data': '0', 'data_layout': 'NCHW', 'hash': '9adb3638fa926e9c', 'num_inputs': '2', 'kernel_layout': 'OIHW', 'out_layout': '', 'func_name': 'tvmgen_default_fused_nn_contrib_conv2d_winograd_without_weight_transform_6'}, 'inputs': [[43, 0, 0], [44, 0, 0]]}\n",
      "{'op': 'null', 'name': 'p17', 'inputs': []}\n",
      "{'op': 'tvm_op', 'name': 'tvmgen_default_fused_add_31', 'attrs': {'num_inputs': '2', 'num_outputs': '1', 'hash': '5f60c946cded3e4d', 'flatten_data': '0', 'func_name': 'tvmgen_default_fused_add_3'}, 'inputs': [[45, 0, 0], [46, 0, 0]]}\n",
      "{'op': 'tvm_op', 'name': 'tvmgen_default_fused_nn_relu_31', 'attrs': {'num_inputs': '1', 'num_outputs': '1', 'hash': '8f783257afe26ec3', 'flatten_data': '0', 'func_name': 'tvmgen_default_fused_nn_relu_3'}, 'inputs': [[47, 0, 0]]}\n",
      "{'op': 'null', 'name': 'p18', 'inputs': []}\n",
      "{'op': 'tvm_op', 'name': 'tvmgen_default_fused_nn_contrib_conv2d_winograd_without_weight_transform_61', 'attrs': {'num_outputs': '1', 'flatten_data': '0', 'data_layout': 'NCHW', 'hash': '9adb3638fa926e9c', 'num_inputs': '2', 'kernel_layout': 'OIHW', 'out_layout': '', 'func_name': 'tvmgen_default_fused_nn_contrib_conv2d_winograd_without_weight_transform_6'}, 'inputs': [[48, 0, 0], [49, 0, 0]]}\n",
      "{'op': 'null', 'name': 'p19', 'inputs': []}\n",
      "{'op': 'tvm_op', 'name': 'tvmgen_default_fused_add_32', 'attrs': {'num_inputs': '2', 'num_outputs': '1', 'hash': '5f60c946cded3e4d', 'flatten_data': '0', 'func_name': 'tvmgen_default_fused_add_3'}, 'inputs': [[50, 0, 0], [51, 0, 0]]}\n",
      "{'op': 'tvm_op', 'name': 'tvmgen_default_fused_nn_relu_32', 'attrs': {'num_inputs': '1', 'num_outputs': '1', 'hash': '8f783257afe26ec3', 'flatten_data': '0', 'func_name': 'tvmgen_default_fused_nn_relu_3'}, 'inputs': [[52, 0, 0]]}\n",
      "{'op': 'tvm_op', 'name': 'tvmgen_default_fused_nn_max_pool2d_3', 'attrs': {'num_outputs': '1', 'layout': 'NCHW', 'func_name': 'tvmgen_default_fused_nn_max_pool2d_3', 'flatten_data': '0', 'hash': 'a1329f4523c873e6', 'num_inputs': '1'}, 'inputs': [[53, 0, 0]]}\n",
      "{'op': 'null', 'name': 'p20', 'inputs': []}\n",
      "{'op': 'tvm_op', 'name': 'tvmgen_default_fused_nn_contrib_conv2d_winograd_without_weight_transform_7', 'attrs': {'num_outputs': '1', 'flatten_data': '0', 'data_layout': 'NCHW', 'hash': 'fcbe79f50b406581', 'num_inputs': '2', 'kernel_layout': 'OIHW', 'out_layout': '', 'func_name': 'tvmgen_default_fused_nn_contrib_conv2d_winograd_without_weight_transform_7'}, 'inputs': [[54, 0, 0], [55, 0, 0]]}\n",
      "{'op': 'null', 'name': 'p21', 'inputs': []}\n",
      "{'op': 'tvm_op', 'name': 'tvmgen_default_fused_add_4', 'attrs': {'num_inputs': '2', 'num_outputs': '1', 'hash': 'd3cfcd61d962a777', 'flatten_data': '0', 'func_name': 'tvmgen_default_fused_add_4'}, 'inputs': [[56, 0, 0], [57, 0, 0]]}\n",
      "{'op': 'tvm_op', 'name': 'tvmgen_default_fused_nn_relu_4', 'attrs': {'num_inputs': '1', 'num_outputs': '1', 'hash': '389f12921e245b88', 'flatten_data': '0', 'func_name': 'tvmgen_default_fused_nn_relu_4'}, 'inputs': [[58, 0, 0]]}\n",
      "{'op': 'null', 'name': 'p22', 'inputs': []}\n",
      "{'op': 'tvm_op', 'name': 'tvmgen_default_fused_nn_contrib_conv2d_winograd_without_weight_transform_71', 'attrs': {'num_outputs': '1', 'flatten_data': '0', 'data_layout': 'NCHW', 'hash': 'fcbe79f50b406581', 'num_inputs': '2', 'kernel_layout': 'OIHW', 'out_layout': '', 'func_name': 'tvmgen_default_fused_nn_contrib_conv2d_winograd_without_weight_transform_7'}, 'inputs': [[59, 0, 0], [60, 0, 0]]}\n",
      "{'op': 'null', 'name': 'p23', 'inputs': []}\n",
      "{'op': 'tvm_op', 'name': 'tvmgen_default_fused_add_41', 'attrs': {'num_inputs': '2', 'num_outputs': '1', 'hash': 'd3cfcd61d962a777', 'flatten_data': '0', 'func_name': 'tvmgen_default_fused_add_4'}, 'inputs': [[61, 0, 0], [62, 0, 0]]}\n",
      "{'op': 'tvm_op', 'name': 'tvmgen_default_fused_nn_relu_41', 'attrs': {'num_inputs': '1', 'num_outputs': '1', 'hash': '389f12921e245b88', 'flatten_data': '0', 'func_name': 'tvmgen_default_fused_nn_relu_4'}, 'inputs': [[63, 0, 0]]}\n",
      "{'op': 'null', 'name': 'p24', 'inputs': []}\n",
      "{'op': 'tvm_op', 'name': 'tvmgen_default_fused_nn_contrib_conv2d_winograd_without_weight_transform_72', 'attrs': {'num_outputs': '1', 'flatten_data': '0', 'out_layout': '', 'func_name': 'tvmgen_default_fused_nn_contrib_conv2d_winograd_without_weight_transform_7', 'hash': 'fcbe79f50b406581', 'num_inputs': '2', 'kernel_layout': 'OIHW', 'data_layout': 'NCHW'}, 'inputs': [[64, 0, 0], [65, 0, 0]]}\n",
      "{'op': 'null', 'name': 'p25', 'inputs': []}\n",
      "{'op': 'tvm_op', 'name': 'tvmgen_default_fused_add_42', 'attrs': {'num_inputs': '2', 'num_outputs': '1', 'hash': 'd3cfcd61d962a777', 'flatten_data': '0', 'func_name': 'tvmgen_default_fused_add_4'}, 'inputs': [[66, 0, 0], [67, 0, 0]]}\n",
      "{'op': 'tvm_op', 'name': 'tvmgen_default_fused_nn_relu_42', 'attrs': {'num_inputs': '1', 'num_outputs': '1', 'hash': '389f12921e245b88', 'flatten_data': '0', 'func_name': 'tvmgen_default_fused_nn_relu_4'}, 'inputs': [[68, 0, 0]]}\n",
      "{'op': 'tvm_op', 'name': 'tvmgen_default_fused_nn_max_pool2d_4', 'attrs': {'num_outputs': '1', 'layout': 'NCHW', 'func_name': 'tvmgen_default_fused_nn_max_pool2d_4', 'flatten_data': '0', 'hash': 'a3bef3a7d299019d', 'num_inputs': '1'}, 'inputs': [[69, 0, 0]]}\n",
      "{'op': 'tvm_op', 'name': 'tvmgen_default_fused_nn_batch_flatten', 'attrs': {'num_inputs': '1', 'num_outputs': '1', 'hash': '04d7fc96583b196f', 'flatten_data': '0', 'func_name': 'tvmgen_default_fused_nn_batch_flatten'}, 'inputs': [[70, 0, 0]]}\n",
      "{'op': 'null', 'name': 'p26', 'inputs': []}\n",
      "{'op': 'tvm_op', 'name': 'tvmgen_default_fused_nn_dense', 'attrs': {'num_inputs': '2', 'num_outputs': '1', 'hash': 'c5bd6c8f473562eb', 'flatten_data': '0', 'func_name': 'tvmgen_default_fused_nn_dense'}, 'inputs': [[71, 0, 0], [72, 0, 0]]}\n",
      "{'op': 'null', 'name': 'p27', 'inputs': []}\n",
      "{'op': 'tvm_op', 'name': 'tvmgen_default_fused_add_5', 'attrs': {'num_inputs': '2', 'num_outputs': '1', 'hash': '0de2cd529d7beab1', 'flatten_data': '0', 'func_name': 'tvmgen_default_fused_add_5'}, 'inputs': [[73, 0, 0], [74, 0, 0]]}\n",
      "{'op': 'tvm_op', 'name': 'tvmgen_default_fused_nn_relu_5', 'attrs': {'num_inputs': '1', 'num_outputs': '1', 'hash': 'e674956a21b4f4f0', 'flatten_data': '0', 'func_name': 'tvmgen_default_fused_nn_relu_5'}, 'inputs': [[75, 0, 0]]}\n",
      "{'op': 'null', 'name': 'p28', 'inputs': []}\n",
      "{'op': 'tvm_op', 'name': 'tvmgen_default_fused_nn_dense_1', 'attrs': {'num_inputs': '2', 'num_outputs': '1', 'hash': 'a9feb3d3dcea5f3e', 'flatten_data': '0', 'func_name': 'tvmgen_default_fused_nn_dense_1'}, 'inputs': [[76, 0, 0], [77, 0, 0]]}\n",
      "{'op': 'null', 'name': 'p29', 'inputs': []}\n",
      "{'op': 'tvm_op', 'name': 'tvmgen_default_fused_add_51', 'attrs': {'num_inputs': '2', 'num_outputs': '1', 'hash': '0de2cd529d7beab1', 'flatten_data': '0', 'func_name': 'tvmgen_default_fused_add_5'}, 'inputs': [[78, 0, 0], [79, 0, 0]]}\n",
      "{'op': 'tvm_op', 'name': 'tvmgen_default_fused_nn_relu_51', 'attrs': {'num_inputs': '1', 'num_outputs': '1', 'hash': 'e674956a21b4f4f0', 'flatten_data': '0', 'func_name': 'tvmgen_default_fused_nn_relu_5'}, 'inputs': [[80, 0, 0]]}\n",
      "{'op': 'null', 'name': 'p30', 'inputs': []}\n",
      "{'op': 'tvm_op', 'name': 'tvmgen_default_fused_nn_dense_2', 'attrs': {'num_inputs': '2', 'num_outputs': '1', 'hash': '043dd29eb21c7ee1', 'flatten_data': '0', 'func_name': 'tvmgen_default_fused_nn_dense_2'}, 'inputs': [[81, 0, 0], [82, 0, 0]]}\n",
      "{'op': 'null', 'name': 'p31', 'inputs': []}\n",
      "{'op': 'tvm_op', 'name': 'tvmgen_default_fused_add_6', 'attrs': {'num_inputs': '2', 'num_outputs': '1', 'hash': '74dfcacfff7ed387', 'flatten_data': '0', 'func_name': 'tvmgen_default_fused_add_6'}, 'inputs': [[83, 0, 0], [84, 0, 0]]}\n",
      "{'op': 'tvm_op', 'name': 'tvmgen_default_fused_nn_softmax', 'attrs': {'num_inputs': '1', 'num_outputs': '1', 'hash': 'ca61e79ea24e53f0', 'flatten_data': '0', 'func_name': 'tvmgen_default_fused_nn_softmax'}, 'inputs': [[85, 0, 0]]}\n"
     ]
    }
   ],
   "metadata": {}
  },
  {
   "cell_type": "code",
   "execution_count": 5,
   "source": [
    "out.flatten()[0:10]"
   ],
   "outputs": [
    {
     "output_type": "execute_result",
     "data": {
      "text/plain": [
       "array([0.00100052, 0.00099585, 0.00099843, 0.00100801, 0.00099786,\n",
       "       0.00100267, 0.00100183, 0.00100203, 0.00099908, 0.0010008 ],\n",
       "      dtype=float32)"
      ]
     },
     "metadata": {},
     "execution_count": 5
    }
   ],
   "metadata": {}
  },
  {
   "cell_type": "code",
   "execution_count": 6,
   "source": [
    "# print first 10 elements of output\n",
    "print(out.flatten()[0:10])\n",
    "\n",
    "from tvm.contrib import utils\n",
    "\n",
    "temp = utils.tempdir()\n",
    "path_lib = temp.relpath('deploy_lib.tar')\n",
    "lib.export_library(path_lib)\n",
    "print(temp.listdir())\n",
    "\n",
    "# load the module back.\n",
    "loaded_lib = tvm.runtime.load_module(path_lib)\n",
    "input_data = tvm.nd.array(data)\n",
    "\n",
    "module = graph_executor.GraphModule(loaded_lib['default'](dev))\n",
    "module.run(data=input_data)\n",
    "out_deploy = module.get_output(0).asnumpy()\n",
    "\n",
    "# print first 10 elements of output\n",
    "print(out_deploy.flatten()[0:10])\n",
    "\n",
    "# check whether the output from deployed module is consistent with original one\n",
    "tvm.testing.assert_allclose(out_deploy, out, atol=1e-5)\n"
   ],
   "outputs": [
    {
     "output_type": "stream",
     "name": "stdout",
     "text": [
      "[0.00100052 0.00099585 0.00099843 0.00100801 0.00099786 0.00100267\n",
      " 0.00100183 0.00100203 0.00099908 0.0010008 ]\n",
      "['deploy_lib.tar']\n",
      "[0.00100052 0.00099585 0.00099843 0.00100801 0.00099786 0.00100267\n",
      " 0.00100183 0.00100203 0.00099908 0.0010008 ]\n"
     ]
    }
   ],
   "metadata": {}
  },
  {
   "cell_type": "code",
   "execution_count": null,
   "source": [],
   "outputs": [],
   "metadata": {}
  }
 ],
 "metadata": {
  "kernelspec": {
   "name": "python3",
   "display_name": "Python 3.8.10 64-bit ('py38tf': conda)"
  },
  "language_info": {
   "codemirror_mode": {
    "name": "ipython",
    "version": 3
   },
   "file_extension": ".py",
   "mimetype": "text/x-python",
   "name": "python",
   "nbconvert_exporter": "python",
   "pygments_lexer": "ipython3",
   "version": "3.8.10"
  },
  "interpreter": {
   "hash": "b5394e3207c3afd882cc5ba6c9751b0a64e230741de37bae3eb4245197158b02"
  }
 },
 "nbformat": 4,
 "nbformat_minor": 5
}